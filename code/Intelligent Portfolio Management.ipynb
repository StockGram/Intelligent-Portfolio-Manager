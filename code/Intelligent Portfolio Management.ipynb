{
 "cells": [
  {
   "cell_type": "markdown",
   "metadata": {},
   "source": [
    "# Intelligent Portfolio Management via NLP Analysis on Financial 10-K Statements\n",
    "\n",
    "### Install Packages"
   ]
  },
  {
   "cell_type": "code",
   "execution_count": 1,
   "metadata": {},
   "outputs": [
    {
     "name": "stdout",
     "output_type": "stream",
     "text": [
      "Collecting alphalens==0.3.2 (from -r requirements.txt (line 1))\n",
      "\u001b[?25l  Downloading https://files.pythonhosted.org/packages/a5/dc/2f9cd107d0d4cf6223d37d81ddfbbdbf0d703d03669b83810fa6b97f32e5/alphalens-0.3.2.tar.gz (18.9MB)\n",
      "\u001b[K    100% |████████████████████████████████| 18.9MB 2.0MB/s eta 0:00:01   34% |███████████                     | 6.5MB 21.6MB/s eta 0:00:01    44% |██████████████▎                 | 8.4MB 21.6MB/s eta 0:00:01    60% |███████████████████▍            | 11.5MB 22.0MB/s eta 0:00:01    71% |███████████████████████         | 13.6MB 23.3MB/s eta 0:00:01    77% |████████████████████████▊       | 14.6MB 21.7MB/s eta 0:00:01    93% |██████████████████████████████  | 17.7MB 20.6MB/s eta 0:00:01\n",
      "\u001b[?25hCollecting nltk==3.3.0 (from -r requirements.txt (line 2))\n",
      "\u001b[?25l  Downloading https://files.pythonhosted.org/packages/50/09/3b1755d528ad9156ee7243d52aa5cd2b809ef053a0f31b53d92853dd653a/nltk-3.3.0.zip (1.4MB)\n",
      "\u001b[K    100% |████████████████████████████████| 1.4MB 11.8MB/s ta 0:00:01   9% |███                             | 133kB 19.0MB/s eta 0:00:01\n",
      "\u001b[?25hCollecting numpy==1.13.3 (from -r requirements.txt (line 3))\n",
      "\u001b[?25l  Downloading https://files.pythonhosted.org/packages/57/a7/e3e6bd9d595125e1abbe162e323fd2d06f6f6683185294b79cd2cdb190d5/numpy-1.13.3-cp36-cp36m-manylinux1_x86_64.whl (17.0MB)\n",
      "\u001b[K    100% |████████████████████████████████| 17.0MB 1.8MB/s eta 0:00:01  2% |▉                               | 460kB 17.7MB/s eta 0:00:01    7% |██▌                             | 1.3MB 19.2MB/s eta 0:00:01    13% |████▌                           | 2.4MB 20.2MB/s eta 0:00:01    25% |████████                        | 4.3MB 20.6MB/s eta 0:00:01    36% |███████████▊                    | 6.2MB 20.2MB/s eta 0:00:01    42% |█████████████▋                  | 7.2MB 18.5MB/s eta 0:00:01    53% |█████████████████▏              | 9.1MB 19.8MB/s eta 0:00:01    65% |████████████████████▉           | 11.1MB 21.1MB/s eta 0:00:01    86% |███████████████████████████▌    | 14.6MB 15.9MB/s eta 0:00:01    91% |█████████████████████████████▏  | 15.5MB 17.4MB/s eta 0:00:01\n",
      "\u001b[?25hCollecting ratelimit==2.2.0 (from -r requirements.txt (line 4))\n",
      "  Downloading https://files.pythonhosted.org/packages/b5/73/956d739706da2f74891ba46391381ce7e680dce27cce90df7c706512d5bf/ratelimit-2.2.0.tar.gz\n",
      "Requirement already satisfied: requests==2.18.4 in /opt/conda/lib/python3.6/site-packages (from -r requirements.txt (line 5)) (2.18.4)\n",
      "Requirement already satisfied: scikit-learn==0.19.1 in /opt/conda/lib/python3.6/site-packages (from -r requirements.txt (line 6)) (0.19.1)\n",
      "Requirement already satisfied: six==1.11.0 in /opt/conda/lib/python3.6/site-packages (from -r requirements.txt (line 7)) (1.11.0)\n",
      "Collecting tqdm==4.19.5 (from -r requirements.txt (line 8))\n",
      "\u001b[?25l  Downloading https://files.pythonhosted.org/packages/71/3c/341b4fa23cb3abc335207dba057c790f3bb329f6757e1fcd5d347bcf8308/tqdm-4.19.5-py2.py3-none-any.whl (51kB)\n",
      "\u001b[K    100% |████████████████████████████████| 61kB 10.1MB/s ta 0:00:01\n",
      "\u001b[?25hRequirement already satisfied: matplotlib>=1.4.0 in /opt/conda/lib/python3.6/site-packages (from alphalens==0.3.2->-r requirements.txt (line 1)) (2.1.0)\n",
      "Requirement already satisfied: pandas>=0.18.0 in /opt/conda/lib/python3.6/site-packages (from alphalens==0.3.2->-r requirements.txt (line 1)) (0.23.3)\n",
      "Requirement already satisfied: scipy>=0.14.0 in /opt/conda/lib/python3.6/site-packages (from alphalens==0.3.2->-r requirements.txt (line 1)) (1.2.1)\n",
      "Requirement already satisfied: seaborn>=0.6.0 in /opt/conda/lib/python3.6/site-packages (from alphalens==0.3.2->-r requirements.txt (line 1)) (0.8.1)\n",
      "Requirement already satisfied: statsmodels>=0.6.1 in /opt/conda/lib/python3.6/site-packages (from alphalens==0.3.2->-r requirements.txt (line 1)) (0.8.0)\n",
      "Requirement already satisfied: IPython>=3.2.3 in /opt/conda/lib/python3.6/site-packages (from alphalens==0.3.2->-r requirements.txt (line 1)) (6.5.0)\n",
      "Requirement already satisfied: chardet<3.1.0,>=3.0.2 in /opt/conda/lib/python3.6/site-packages (from requests==2.18.4->-r requirements.txt (line 5)) (3.0.4)\n",
      "Requirement already satisfied: idna<2.7,>=2.5 in /opt/conda/lib/python3.6/site-packages (from requests==2.18.4->-r requirements.txt (line 5)) (2.6)\n",
      "Requirement already satisfied: urllib3<1.23,>=1.21.1 in /opt/conda/lib/python3.6/site-packages (from requests==2.18.4->-r requirements.txt (line 5)) (1.22)\n",
      "Requirement already satisfied: certifi>=2017.4.17 in /opt/conda/lib/python3.6/site-packages (from requests==2.18.4->-r requirements.txt (line 5)) (2019.11.28)\n",
      "Requirement already satisfied: python-dateutil>=2.0 in /opt/conda/lib/python3.6/site-packages (from matplotlib>=1.4.0->alphalens==0.3.2->-r requirements.txt (line 1)) (2.6.1)\n",
      "Requirement already satisfied: pytz in /opt/conda/lib/python3.6/site-packages (from matplotlib>=1.4.0->alphalens==0.3.2->-r requirements.txt (line 1)) (2017.3)\n",
      "Requirement already satisfied: cycler>=0.10 in /opt/conda/lib/python3.6/site-packages/cycler-0.10.0-py3.6.egg (from matplotlib>=1.4.0->alphalens==0.3.2->-r requirements.txt (line 1)) (0.10.0)\n",
      "Requirement already satisfied: pyparsing!=2.0.4,!=2.1.2,!=2.1.6,>=2.0.1 in /opt/conda/lib/python3.6/site-packages (from matplotlib>=1.4.0->alphalens==0.3.2->-r requirements.txt (line 1)) (2.2.0)\n",
      "Requirement already satisfied: pickleshare in /opt/conda/lib/python3.6/site-packages (from IPython>=3.2.3->alphalens==0.3.2->-r requirements.txt (line 1)) (0.7.4)\n",
      "Requirement already satisfied: jedi>=0.10 in /opt/conda/lib/python3.6/site-packages (from IPython>=3.2.3->alphalens==0.3.2->-r requirements.txt (line 1)) (0.10.2)\n",
      "Requirement already satisfied: prompt-toolkit<2.0.0,>=1.0.15 in /opt/conda/lib/python3.6/site-packages (from IPython>=3.2.3->alphalens==0.3.2->-r requirements.txt (line 1)) (1.0.15)\n",
      "Requirement already satisfied: backcall in /opt/conda/lib/python3.6/site-packages (from IPython>=3.2.3->alphalens==0.3.2->-r requirements.txt (line 1)) (0.1.0)\n",
      "Requirement already satisfied: pexpect; sys_platform != \"win32\" in /opt/conda/lib/python3.6/site-packages (from IPython>=3.2.3->alphalens==0.3.2->-r requirements.txt (line 1)) (4.3.1)\n",
      "Requirement already satisfied: decorator in /opt/conda/lib/python3.6/site-packages (from IPython>=3.2.3->alphalens==0.3.2->-r requirements.txt (line 1)) (4.0.11)\n",
      "Requirement already satisfied: pygments in /opt/conda/lib/python3.6/site-packages (from IPython>=3.2.3->alphalens==0.3.2->-r requirements.txt (line 1)) (2.2.0)\n",
      "Requirement already satisfied: setuptools>=18.5 in /opt/conda/lib/python3.6/site-packages (from IPython>=3.2.3->alphalens==0.3.2->-r requirements.txt (line 1)) (38.4.0)\n",
      "Requirement already satisfied: simplegeneric>0.8 in /opt/conda/lib/python3.6/site-packages (from IPython>=3.2.3->alphalens==0.3.2->-r requirements.txt (line 1)) (0.8.1)\n",
      "Requirement already satisfied: traitlets>=4.2 in /opt/conda/lib/python3.6/site-packages (from IPython>=3.2.3->alphalens==0.3.2->-r requirements.txt (line 1)) (4.3.2)\n",
      "Requirement already satisfied: wcwidth in /opt/conda/lib/python3.6/site-packages (from prompt-toolkit<2.0.0,>=1.0.15->IPython>=3.2.3->alphalens==0.3.2->-r requirements.txt (line 1)) (0.1.7)\n",
      "Requirement already satisfied: ptyprocess>=0.5 in /opt/conda/lib/python3.6/site-packages (from pexpect; sys_platform != \"win32\"->IPython>=3.2.3->alphalens==0.3.2->-r requirements.txt (line 1)) (0.5.2)\n",
      "Requirement already satisfied: ipython-genutils in /opt/conda/lib/python3.6/site-packages (from traitlets>=4.2->IPython>=3.2.3->alphalens==0.3.2->-r requirements.txt (line 1)) (0.2.0)\n",
      "Building wheels for collected packages: alphalens, nltk, ratelimit\n",
      "  Running setup.py bdist_wheel for alphalens ... \u001b[?25ldone\n",
      "\u001b[?25h  Stored in directory: /root/.cache/pip/wheels/77/1e/9a/223b4c94d7f564f25d94b48ca5b9c53e3034016ece3fd8c8c1\n",
      "  Running setup.py bdist_wheel for nltk ... \u001b[?25ldone\n",
      "\u001b[?25h  Stored in directory: /root/.cache/pip/wheels/d1/ab/40/3bceea46922767e42986aef7606a600538ca80de6062dc266c\n",
      "  Running setup.py bdist_wheel for ratelimit ... \u001b[?25ldone\n",
      "\u001b[?25h  Stored in directory: /root/.cache/pip/wheels/a6/2a/13/3c6e42757ca0b6873a60e0697d30f7dd9d521a52874c44f201\n",
      "Successfully built alphalens nltk ratelimit\n",
      "\u001b[31mtensorflow 1.3.0 requires tensorflow-tensorboard<0.2.0,>=0.1.0, which is not installed.\u001b[0m\n",
      "\u001b[31mmoviepy 0.2.3.2 has requirement tqdm==4.11.2, but you'll have tqdm 4.19.5 which is incompatible.\u001b[0m\n",
      "Installing collected packages: numpy, alphalens, nltk, ratelimit, tqdm\n",
      "  Found existing installation: numpy 1.12.1\n",
      "    Uninstalling numpy-1.12.1:\n",
      "      Successfully uninstalled numpy-1.12.1\n",
      "  Found existing installation: nltk 3.2.5\n",
      "    Uninstalling nltk-3.2.5:\n",
      "      Successfully uninstalled nltk-3.2.5\n",
      "  Found existing installation: tqdm 4.11.2\n",
      "    Uninstalling tqdm-4.11.2:\n",
      "      Successfully uninstalled tqdm-4.11.2\n",
      "Successfully installed alphalens-0.3.2 nltk-3.3 numpy-1.13.3 ratelimit-2.2.0 tqdm-4.19.5\n"
     ]
    }
   ],
   "source": [
    "import sys\n",
    "\n",
    "!{sys.executable} -m pip install -r requirements.txt"
   ]
  },
  {
   "cell_type": "markdown",
   "metadata": {},
   "source": [
    "### Load Packages"
   ]
  },
  {
   "cell_type": "code",
   "execution_count": 2,
   "metadata": {},
   "outputs": [],
   "source": [
    "import nltk\n",
    "import numpy as np\n",
    "import pandas as pd\n",
    "import pickle\n",
    "import pprint\n",
    "import project_helper\n",
    "import project_tests\n",
    "\n",
    "from tqdm import tqdm"
   ]
  },
  {
   "cell_type": "markdown",
   "metadata": {},
   "source": [
    "### Download NLP Corpora\n",
    "Here we need two corpora to run this project: the stopwords corpus for removing stopwords and wordnet for lemmatizing."
   ]
  },
  {
   "cell_type": "code",
   "execution_count": 3,
   "metadata": {},
   "outputs": [
    {
     "name": "stdout",
     "output_type": "stream",
     "text": [
      "[nltk_data] Downloading package stopwords to /root/nltk_data...\n",
      "[nltk_data]   Unzipping corpora/stopwords.zip.\n",
      "[nltk_data] Downloading package wordnet to /root/nltk_data...\n",
      "[nltk_data]   Unzipping corpora/wordnet.zip.\n"
     ]
    },
    {
     "data": {
      "text/plain": [
       "True"
      ]
     },
     "execution_count": 3,
     "metadata": {},
     "output_type": "execute_result"
    }
   ],
   "source": [
    "nltk.download('stopwords')\n",
    "nltk.download('wordnet')"
   ]
  },
  {
   "cell_type": "code",
   "execution_count": 4,
   "metadata": {},
   "outputs": [
    {
     "name": "stdout",
     "output_type": "stream",
     "text": [
      "Requirement already satisfied: pandas==0.23.3 in /opt/conda/lib/python3.6/site-packages (0.23.3)\n",
      "Requirement already satisfied: python-dateutil>=2.5.0 in /opt/conda/lib/python3.6/site-packages (from pandas==0.23.3) (2.6.1)\n",
      "Requirement already satisfied: pytz>=2011k in /opt/conda/lib/python3.6/site-packages (from pandas==0.23.3) (2017.3)\n",
      "Requirement already satisfied: numpy>=1.9.0 in /opt/conda/lib/python3.6/site-packages (from pandas==0.23.3) (1.13.3)\n",
      "Requirement already satisfied: six>=1.5 in /opt/conda/lib/python3.6/site-packages (from python-dateutil>=2.5.0->pandas==0.23.3) (1.11.0)\n"
     ]
    }
   ],
   "source": [
    "!pip install pandas==0.23.3"
   ]
  },
  {
   "cell_type": "markdown",
   "metadata": {},
   "source": [
    "## Get 10ks\n",
    "Here, we will be running NLP analysis on 10-k documents. To do that, we first need to download the documents. For this project, we'll download 10-ks for a few companies. To lookup documents for these companies, we'll use their CIK. If you would like to run this against other stocks, we've provided the dict `additional_cik` for more stocks. However, the more stocks you try, the long it will take to run.\n",
    "\n",
    "## Creating a diversified portfolio\n",
    "To test our hypothesis, I have taken a diversified portfolio. The portfolio contains 7 companies, all belonging from different sectors."
   ]
  },
  {
   "cell_type": "code",
   "execution_count": 51,
   "metadata": {},
   "outputs": [
    {
     "data": {
      "text/html": [
       "<div>\n",
       "<style scoped>\n",
       "    .dataframe tbody tr th:only-of-type {\n",
       "        vertical-align: middle;\n",
       "    }\n",
       "\n",
       "    .dataframe tbody tr th {\n",
       "        vertical-align: top;\n",
       "    }\n",
       "\n",
       "    .dataframe thead th {\n",
       "        text-align: right;\n",
       "    }\n",
       "</style>\n",
       "<table border=\"1\" class=\"dataframe\">\n",
       "  <thead>\n",
       "    <tr style=\"text-align: right;\">\n",
       "      <th>ticker</th>\n",
       "      <th>AMZN</th>\n",
       "      <th>LLY</th>\n",
       "      <th>CNP</th>\n",
       "      <th>XOM</th>\n",
       "      <th>NKE</th>\n",
       "      <th>FRT</th>\n",
       "      <th>BA</th>\n",
       "    </tr>\n",
       "    <tr>\n",
       "      <th>date</th>\n",
       "      <th></th>\n",
       "      <th></th>\n",
       "      <th></th>\n",
       "      <th></th>\n",
       "      <th></th>\n",
       "      <th></th>\n",
       "      <th></th>\n",
       "    </tr>\n",
       "  </thead>\n",
       "  <tbody>\n",
       "    <tr>\n",
       "      <th>1962-01-01</th>\n",
       "      <td>nan</td>\n",
       "      <td>nan</td>\n",
       "      <td>nan</td>\n",
       "      <td>nan</td>\n",
       "      <td>nan</td>\n",
       "      <td>nan</td>\n",
       "      <td>0.64071188</td>\n",
       "    </tr>\n",
       "    <tr>\n",
       "      <th>1963-01-01</th>\n",
       "      <td>nan</td>\n",
       "      <td>nan</td>\n",
       "      <td>nan</td>\n",
       "      <td>nan</td>\n",
       "      <td>nan</td>\n",
       "      <td>nan</td>\n",
       "      <td>0.61913618</td>\n",
       "    </tr>\n",
       "    <tr>\n",
       "      <th>1964-01-01</th>\n",
       "      <td>nan</td>\n",
       "      <td>nan</td>\n",
       "      <td>nan</td>\n",
       "      <td>nan</td>\n",
       "      <td>nan</td>\n",
       "      <td>nan</td>\n",
       "      <td>1.18873457</td>\n",
       "    </tr>\n",
       "    <tr>\n",
       "      <th>1965-01-01</th>\n",
       "      <td>nan</td>\n",
       "      <td>nan</td>\n",
       "      <td>nan</td>\n",
       "      <td>nan</td>\n",
       "      <td>nan</td>\n",
       "      <td>nan</td>\n",
       "      <td>2.25681785</td>\n",
       "    </tr>\n",
       "    <tr>\n",
       "      <th>1966-01-01</th>\n",
       "      <td>nan</td>\n",
       "      <td>nan</td>\n",
       "      <td>nan</td>\n",
       "      <td>nan</td>\n",
       "      <td>nan</td>\n",
       "      <td>nan</td>\n",
       "      <td>1.13263776</td>\n",
       "    </tr>\n",
       "  </tbody>\n",
       "</table>\n",
       "</div>"
      ],
      "text/plain": [
       "ticker      AMZN  LLY  CNP  XOM  NKE  FRT         BA\n",
       "date                                                \n",
       "1962-01-01   nan  nan  nan  nan  nan  nan 0.64071188\n",
       "1963-01-01   nan  nan  nan  nan  nan  nan 0.61913618\n",
       "1964-01-01   nan  nan  nan  nan  nan  nan 1.18873457\n",
       "1965-01-01   nan  nan  nan  nan  nan  nan 2.25681785\n",
       "1966-01-01   nan  nan  nan  nan  nan  nan 1.13263776"
      ]
     },
     "execution_count": 51,
     "metadata": {},
     "output_type": "execute_result"
    }
   ],
   "source": [
    "pricing = pricing.filter(['AMZN', 'LLY', 'CNP', 'XOM', 'NKE', 'FRT', 'BA'])\n",
    "pricing.head()"
   ]
  },
  {
   "cell_type": "code",
   "execution_count": 52,
   "metadata": {},
   "outputs": [
    {
     "data": {
      "text/html": [
       "<div>\n",
       "<style scoped>\n",
       "    .dataframe tbody tr th:only-of-type {\n",
       "        vertical-align: middle;\n",
       "    }\n",
       "\n",
       "    .dataframe tbody tr th {\n",
       "        vertical-align: top;\n",
       "    }\n",
       "\n",
       "    .dataframe thead th {\n",
       "        text-align: right;\n",
       "    }\n",
       "</style>\n",
       "<table border=\"1\" class=\"dataframe\">\n",
       "  <thead>\n",
       "    <tr style=\"text-align: right;\">\n",
       "      <th>ticker</th>\n",
       "      <th>AMZN</th>\n",
       "      <th>LLY</th>\n",
       "      <th>CNP</th>\n",
       "      <th>XOM</th>\n",
       "      <th>NKE</th>\n",
       "      <th>FRT</th>\n",
       "      <th>BA</th>\n",
       "    </tr>\n",
       "    <tr>\n",
       "      <th>date</th>\n",
       "      <th></th>\n",
       "      <th></th>\n",
       "      <th></th>\n",
       "      <th></th>\n",
       "      <th></th>\n",
       "      <th></th>\n",
       "      <th></th>\n",
       "    </tr>\n",
       "  </thead>\n",
       "  <tbody>\n",
       "    <tr>\n",
       "      <th>2014-01-01</th>\n",
       "      <td>310.35000000</td>\n",
       "      <td>62.89207161</td>\n",
       "      <td>19.98816704</td>\n",
       "      <td>81.45436267</td>\n",
       "      <td>46.12386666</td>\n",
       "      <td>120.93327682</td>\n",
       "      <td>118.05963288</td>\n",
       "    </tr>\n",
       "    <tr>\n",
       "      <th>2015-01-01</th>\n",
       "      <td>675.89000000</td>\n",
       "      <td>78.84732142</td>\n",
       "      <td>16.47694351</td>\n",
       "      <td>71.06372586</td>\n",
       "      <td>60.60044596</td>\n",
       "      <td>135.81997252</td>\n",
       "      <td>134.64696530</td>\n",
       "    </tr>\n",
       "    <tr>\n",
       "      <th>2016-01-01</th>\n",
       "      <td>749.87000000</td>\n",
       "      <td>70.66763184</td>\n",
       "      <td>23.21314562</td>\n",
       "      <td>85.20695722</td>\n",
       "      <td>49.87045562</td>\n",
       "      <td>135.50155863</td>\n",
       "      <td>149.88750981</td>\n",
       "    </tr>\n",
       "    <tr>\n",
       "      <th>2017-01-01</th>\n",
       "      <td>1169.47000000</td>\n",
       "      <td>83.27072791</td>\n",
       "      <td>27.76055779</td>\n",
       "      <td>81.97170489</td>\n",
       "      <td>62.18976773</td>\n",
       "      <td>130.63600821</td>\n",
       "      <td>291.93724356</td>\n",
       "    </tr>\n",
       "    <tr>\n",
       "      <th>2018-01-01</th>\n",
       "      <td>1699.73000000</td>\n",
       "      <td>86.56000000</td>\n",
       "      <td>27.75000000</td>\n",
       "      <td>82.31000000</td>\n",
       "      <td>76.55000000</td>\n",
       "      <td>126.28000000</td>\n",
       "      <td>333.18000000</td>\n",
       "    </tr>\n",
       "  </tbody>\n",
       "</table>\n",
       "</div>"
      ],
      "text/plain": [
       "ticker              AMZN         LLY         CNP         XOM         NKE  \\\n",
       "date                                                                       \n",
       "2014-01-01  310.35000000 62.89207161 19.98816704 81.45436267 46.12386666   \n",
       "2015-01-01  675.89000000 78.84732142 16.47694351 71.06372586 60.60044596   \n",
       "2016-01-01  749.87000000 70.66763184 23.21314562 85.20695722 49.87045562   \n",
       "2017-01-01 1169.47000000 83.27072791 27.76055779 81.97170489 62.18976773   \n",
       "2018-01-01 1699.73000000 86.56000000 27.75000000 82.31000000 76.55000000   \n",
       "\n",
       "ticker              FRT           BA  \n",
       "date                                  \n",
       "2014-01-01 120.93327682 118.05963288  \n",
       "2015-01-01 135.81997252 134.64696530  \n",
       "2016-01-01 135.50155863 149.88750981  \n",
       "2017-01-01 130.63600821 291.93724356  \n",
       "2018-01-01 126.28000000 333.18000000  "
      ]
     },
     "execution_count": 52,
     "metadata": {},
     "output_type": "execute_result"
    }
   ],
   "source": [
    "pricing.tail()"
   ]
  },
  {
   "cell_type": "code",
   "execution_count": 53,
   "metadata": {},
   "outputs": [],
   "source": [
    "cik_lookup = {\n",
    "    'AMZN': '0001018724',\n",
    "    'LLY': '0000059478',   \n",
    "    'CNP': '0001130310',\n",
    "    'XOM': '0000034088',\n",
    "    'NKE': '0000320187',\n",
    "    'FRT': '0000034903',\n",
    "    'BA': '0000012927'}"
   ]
  },
  {
   "cell_type": "code",
   "execution_count": 54,
   "metadata": {},
   "outputs": [
    {
     "data": {
      "text/html": [
       "<div>\n",
       "<style scoped>\n",
       "    .dataframe tbody tr th:only-of-type {\n",
       "        vertical-align: middle;\n",
       "    }\n",
       "\n",
       "    .dataframe tbody tr th {\n",
       "        vertical-align: top;\n",
       "    }\n",
       "\n",
       "    .dataframe thead th {\n",
       "        text-align: right;\n",
       "    }\n",
       "</style>\n",
       "<table border=\"1\" class=\"dataframe\">\n",
       "  <thead>\n",
       "    <tr style=\"text-align: right;\">\n",
       "      <th></th>\n",
       "      <th>EOD/NKE - Adj_Close</th>\n",
       "      <th>EOD/AMZN - Adj_Close</th>\n",
       "      <th>EOD/LLY - Adj_Close</th>\n",
       "      <th>EOD/CNP - Adj_Close</th>\n",
       "      <th>EOD/XOM - Adj_Close</th>\n",
       "      <th>EOD/FRT - Adj_Close</th>\n",
       "      <th>EOD/BA - Adj_Close</th>\n",
       "    </tr>\n",
       "    <tr>\n",
       "      <th>Date</th>\n",
       "      <th></th>\n",
       "      <th></th>\n",
       "      <th></th>\n",
       "      <th></th>\n",
       "      <th></th>\n",
       "      <th></th>\n",
       "      <th></th>\n",
       "    </tr>\n",
       "  </thead>\n",
       "  <tbody>\n",
       "    <tr>\n",
       "      <th>2016-12-31</th>\n",
       "      <td>48.71997276</td>\n",
       "      <td>749.87000000</td>\n",
       "      <td>67.76311638</td>\n",
       "      <td>21.47765641</td>\n",
       "      <td>75.51173213</td>\n",
       "      <td>125.63876199</td>\n",
       "      <td>144.26808190</td>\n",
       "    </tr>\n",
       "    <tr>\n",
       "      <th>2017-12-31</th>\n",
       "      <td>60.75508539</td>\n",
       "      <td>1169.47000000</td>\n",
       "      <td>79.84821168</td>\n",
       "      <td>25.68508946</td>\n",
       "      <td>72.64460115</td>\n",
       "      <td>121.12736200</td>\n",
       "      <td>280.99223356</td>\n",
       "    </tr>\n",
       "    <tr>\n",
       "      <th>2018-12-31</th>\n",
       "      <td>72.81849743</td>\n",
       "      <td>1501.97000000</td>\n",
       "      <td>112.14461953</td>\n",
       "      <td>26.64533341</td>\n",
       "      <td>61.67406248</td>\n",
       "      <td>110.32123549</td>\n",
       "      <td>313.39217857</td>\n",
       "    </tr>\n",
       "    <tr>\n",
       "      <th>2019-12-31</th>\n",
       "      <td>100.56316987</td>\n",
       "      <td>1847.84000000</td>\n",
       "      <td>129.50269881</td>\n",
       "      <td>26.54040495</td>\n",
       "      <td>66.14668434</td>\n",
       "      <td>124.10869121</td>\n",
       "      <td>323.81890018</td>\n",
       "    </tr>\n",
       "    <tr>\n",
       "      <th>2020-12-31</th>\n",
       "      <td>130.06000000</td>\n",
       "      <td>3195.69000000</td>\n",
       "      <td>148.96000000</td>\n",
       "      <td>20.65000000</td>\n",
       "      <td>33.50000000</td>\n",
       "      <td>77.65000000</td>\n",
       "      <td>164.61000000</td>\n",
       "    </tr>\n",
       "  </tbody>\n",
       "</table>\n",
       "</div>"
      ],
      "text/plain": [
       "            EOD/NKE - Adj_Close  EOD/AMZN - Adj_Close  EOD/LLY - Adj_Close  \\\n",
       "Date                                                                         \n",
       "2016-12-31          48.71997276          749.87000000          67.76311638   \n",
       "2017-12-31          60.75508539         1169.47000000          79.84821168   \n",
       "2018-12-31          72.81849743         1501.97000000         112.14461953   \n",
       "2019-12-31         100.56316987         1847.84000000         129.50269881   \n",
       "2020-12-31         130.06000000         3195.69000000         148.96000000   \n",
       "\n",
       "            EOD/CNP - Adj_Close  EOD/XOM - Adj_Close  EOD/FRT - Adj_Close  \\\n",
       "Date                                                                        \n",
       "2016-12-31          21.47765641          75.51173213         125.63876199   \n",
       "2017-12-31          25.68508946          72.64460115         121.12736200   \n",
       "2018-12-31          26.64533341          61.67406248         110.32123549   \n",
       "2019-12-31          26.54040495          66.14668434         124.10869121   \n",
       "2020-12-31          20.65000000          33.50000000          77.65000000   \n",
       "\n",
       "            EOD/BA - Adj_Close  \n",
       "Date                            \n",
       "2016-12-31        144.26808190  \n",
       "2017-12-31        280.99223356  \n",
       "2018-12-31        313.39217857  \n",
       "2019-12-31        323.81890018  \n",
       "2020-12-31        164.61000000  "
      ]
     },
     "execution_count": 54,
     "metadata": {},
     "output_type": "execute_result"
    }
   ],
   "source": [
    "data.tail()"
   ]
  },
  {
   "cell_type": "code",
   "execution_count": 55,
   "metadata": {},
   "outputs": [],
   "source": [
    "idx = pricing.index"
   ]
  },
  {
   "cell_type": "code",
   "execution_count": 56,
   "metadata": {},
   "outputs": [
    {
     "data": {
      "text/html": [
       "<div>\n",
       "<style scoped>\n",
       "    .dataframe tbody tr th:only-of-type {\n",
       "        vertical-align: middle;\n",
       "    }\n",
       "\n",
       "    .dataframe tbody tr th {\n",
       "        vertical-align: top;\n",
       "    }\n",
       "\n",
       "    .dataframe thead th {\n",
       "        text-align: right;\n",
       "    }\n",
       "</style>\n",
       "<table border=\"1\" class=\"dataframe\">\n",
       "  <thead>\n",
       "    <tr style=\"text-align: right;\">\n",
       "      <th>ticker</th>\n",
       "      <th>AMZN</th>\n",
       "      <th>LLY</th>\n",
       "      <th>CNP</th>\n",
       "      <th>XOM</th>\n",
       "      <th>NKE</th>\n",
       "      <th>FRT</th>\n",
       "      <th>BA</th>\n",
       "    </tr>\n",
       "    <tr>\n",
       "      <th>date</th>\n",
       "      <th></th>\n",
       "      <th></th>\n",
       "      <th></th>\n",
       "      <th></th>\n",
       "      <th></th>\n",
       "      <th></th>\n",
       "      <th></th>\n",
       "    </tr>\n",
       "  </thead>\n",
       "  <tbody>\n",
       "    <tr>\n",
       "      <th>2015-01-01</th>\n",
       "      <td>675.89000000</td>\n",
       "      <td>78.84732142</td>\n",
       "      <td>16.47694351</td>\n",
       "      <td>71.06372586</td>\n",
       "      <td>60.60044596</td>\n",
       "      <td>135.81997252</td>\n",
       "      <td>134.64696530</td>\n",
       "    </tr>\n",
       "    <tr>\n",
       "      <th>2016-01-01</th>\n",
       "      <td>749.87000000</td>\n",
       "      <td>70.66763184</td>\n",
       "      <td>23.21314562</td>\n",
       "      <td>85.20695722</td>\n",
       "      <td>49.87045562</td>\n",
       "      <td>135.50155863</td>\n",
       "      <td>149.88750981</td>\n",
       "    </tr>\n",
       "    <tr>\n",
       "      <th>2017-01-01</th>\n",
       "      <td>1169.47000000</td>\n",
       "      <td>83.27072791</td>\n",
       "      <td>27.76055779</td>\n",
       "      <td>81.97170489</td>\n",
       "      <td>62.18976773</td>\n",
       "      <td>130.63600821</td>\n",
       "      <td>291.93724356</td>\n",
       "    </tr>\n",
       "    <tr>\n",
       "      <th>2018-01-01</th>\n",
       "      <td>1699.73000000</td>\n",
       "      <td>86.56000000</td>\n",
       "      <td>27.75000000</td>\n",
       "      <td>82.31000000</td>\n",
       "      <td>76.55000000</td>\n",
       "      <td>126.28000000</td>\n",
       "      <td>333.18000000</td>\n",
       "    </tr>\n",
       "    <tr>\n",
       "      <th>2019-01-01</th>\n",
       "      <td>1847.84000000</td>\n",
       "      <td>129.50269881</td>\n",
       "      <td>26.54040495</td>\n",
       "      <td>66.14668434</td>\n",
       "      <td>100.56316987</td>\n",
       "      <td>124.10869121</td>\n",
       "      <td>323.81890018</td>\n",
       "    </tr>\n",
       "  </tbody>\n",
       "</table>\n",
       "</div>"
      ],
      "text/plain": [
       "ticker              AMZN          LLY         CNP         XOM          NKE  \\\n",
       "date                                                                         \n",
       "2015-01-01  675.89000000  78.84732142 16.47694351 71.06372586  60.60044596   \n",
       "2016-01-01  749.87000000  70.66763184 23.21314562 85.20695722  49.87045562   \n",
       "2017-01-01 1169.47000000  83.27072791 27.76055779 81.97170489  62.18976773   \n",
       "2018-01-01 1699.73000000  86.56000000 27.75000000 82.31000000  76.55000000   \n",
       "2019-01-01 1847.84000000 129.50269881 26.54040495 66.14668434 100.56316987   \n",
       "\n",
       "ticker              FRT           BA  \n",
       "date                                  \n",
       "2015-01-01 135.81997252 134.64696530  \n",
       "2016-01-01 135.50155863 149.88750981  \n",
       "2017-01-01 130.63600821 291.93724356  \n",
       "2018-01-01 126.28000000 333.18000000  \n",
       "2019-01-01 124.10869121 323.81890018  "
      ]
     },
     "execution_count": 56,
     "metadata": {},
     "output_type": "execute_result"
    }
   ],
   "source": [
    "pricing.loc[pd.to_datetime('2019-01-01')] = [1847.84000000, 129.50269881, 26.54040495, 66.14668434, 100.56316987, 124.10869121, 323.81890018]\n",
    "pricing.tail()"
   ]
  },
  {
   "cell_type": "markdown",
   "metadata": {},
   "source": [
    "### Get list of 10-ks"
   ]
  },
  {
   "cell_type": "code",
   "execution_count": 151,
   "metadata": {},
   "outputs": [],
   "source": [
    "sec_api = project_helper.SecAPI()"
   ]
  },
  {
   "cell_type": "markdown",
   "metadata": {},
   "source": [
    "With the class constructed, let's pull a list of filled 10-ks from the SEC for each company."
   ]
  },
  {
   "cell_type": "code",
   "execution_count": 152,
   "metadata": {},
   "outputs": [],
   "source": [
    "from bs4 import BeautifulSoup\n",
    "\n",
    "def get_sec_data(cik, doc_type, start=0, count=60):\n",
    "    newest_pricing_data = pd.to_datetime('2018-01-01')\n",
    "    rss_url = 'https://www.sec.gov/cgi-bin/browse-edgar?action=getcompany' \\\n",
    "        '&CIK={}&type={}&start={}&count={}&owner=exclude&output=atom' \\\n",
    "        .format(cik, doc_type, start, count)\n",
    "    sec_data = sec_api.get(rss_url)\n",
    "    feed = BeautifulSoup(sec_data.encode('ascii'), 'xml').feed\n",
    "    entries = [\n",
    "        (\n",
    "            entry.content.find('filing-href').getText(),\n",
    "            entry.content.find('filing-type').getText(),\n",
    "            entry.content.find('filing-date').getText())\n",
    "        for entry in feed.find_all('entry', recursive=False)\n",
    "        if pd.to_datetime(entry.content.find('filing-date').getText()) <= newest_pricing_data]\n",
    "\n",
    "    return entries"
   ]
  },
  {
   "cell_type": "markdown",
   "metadata": {},
   "source": [
    "Let's pull the list using the `get_sec_data` function, then display some of the results. For displaying some of the data, we'll use Amazon as an example. "
   ]
  },
  {
   "cell_type": "code",
   "execution_count": 153,
   "metadata": {},
   "outputs": [
    {
     "name": "stdout",
     "output_type": "stream",
     "text": [
      "[('https://www.sec.gov/Archives/edgar/data/1018724/000101872417000011/0001018724-17-000011-index.htm',\n",
      "  '10-K',\n",
      "  '2017-02-10'),\n",
      " ('https://www.sec.gov/Archives/edgar/data/1018724/000101872416000172/0001018724-16-000172-index.htm',\n",
      "  '10-K',\n",
      "  '2016-01-29'),\n",
      " ('https://www.sec.gov/Archives/edgar/data/1018724/000101872415000006/0001018724-15-000006-index.htm',\n",
      "  '10-K',\n",
      "  '2015-01-30'),\n",
      " ('https://www.sec.gov/Archives/edgar/data/1018724/000101872414000006/0001018724-14-000006-index.htm',\n",
      "  '10-K',\n",
      "  '2014-01-31'),\n",
      " ('https://www.sec.gov/Archives/edgar/data/1018724/000119312513028520/0001193125-13-028520-index.htm',\n",
      "  '10-K',\n",
      "  '2013-01-30')]\n"
     ]
    }
   ],
   "source": [
    "example_ticker = 'NKE'\n",
    "sec_data = {}\n",
    "\n",
    "\n",
    "for ticker, cik in cik_lookup.items():\n",
    "    sec_data[ticker] = get_sec_data(cik, '10-K')\n",
    "    \n",
    "\n",
    "pprint.pprint(sec_data['AMZN'][:5])"
   ]
  },
  {
   "cell_type": "markdown",
   "metadata": {},
   "source": [
    "### Download 10-ks\n",
    "As you see, this is a list of urls. These urls point to a file that contains metadata related to each filling. Since we don't care about the metadata, we'll pull the filling by replacing the url with the filling url."
   ]
  },
  {
   "cell_type": "code",
   "execution_count": 154,
   "metadata": {},
   "outputs": [
    {
     "name": "stderr",
     "output_type": "stream",
     "text": [
      "Downloading AMZN Fillings: 100%|██████████| 22/22 [00:11<00:00,  1.93filling/s]\n",
      "Downloading LLY Fillings: 100%|██████████| 25/25 [00:10<00:00,  2.50filling/s]\n",
      "Downloading CNP Fillings: 100%|██████████| 19/19 [00:07<00:00,  2.38filling/s]\n",
      "Downloading XOM Fillings: 100%|██████████| 25/25 [00:08<00:00,  3.00filling/s]\n",
      "Downloading NKE Fillings: 100%|██████████| 26/26 [00:07<00:00,  3.54filling/s]\n",
      "Downloading FRT Fillings: 100%|██████████| 29/29 [00:06<00:00,  4.83filling/s]\n",
      "Downloading BA Fillings: 100%|██████████| 26/26 [00:08<00:00,  3.04filling/s]"
     ]
    },
    {
     "name": "stdout",
     "output_type": "stream",
     "text": [
      "Example Document:\n",
      "\n",
      "<SEC-DOCUMENT>0000320187-17-000090.txt : 20170720\n",
      "<SEC-HEADER>0000320187-17-000090.hdr.sgml : 20170720\n",
      "<ACCEPTANCE-DATETIME>20170720161816\n",
      "ACCESSION NUMBER:\t\t0000320187-17-000090\n",
      "CONFORMED SUBMISSION TYPE:\t10-K\n",
      "PUBLIC DOCUMENT COUNT:\t\t98\n",
      "CONFORMED PERIOD OF REPORT:\t20170531\n",
      "FILED AS OF DATE:\t\t20170720\n",
      "DATE AS OF CHANGE:\t\t20170720\n",
      "\n",
      "FILER:\n",
      "\n",
      "\tCOMPANY DATA:\t\n",
      "\t\tCOMPANY CONFORMED NAME:\t\t\tNIKE INC\n",
      "\t\tCENTRAL INDEX KEY:\t\t\t0000320187\n",
      "\t\tSTANDARD INDUSTRIAL CLASSIFICATION:\tRUBBER & PLASTICS FOOTWEAR [3021]\n",
      "\t\tIRS NUMBER:\t\t\t\t930584541\n",
      "\t\tSTATE OF INCORPORATION:\t\t\tOR\n",
      "\t\tFISCAL YEAR END:\t\t\t0531\n",
      "\n",
      "\tFILING VALUES:\n",
      "\t\tFORM TYPE:\t\t10-K\n",
      "\t\tSEC ACT:\t\t1934 Act\n",
      "\t\tSEC FILE NUMBER:\t001-10635\n",
      "\t\tFILM NUMBER:\t\t17974568\n",
      "\n",
      "\tBUSINESS ADDRESS:\t\n",
      "\t\tSTREET 1:\t\tONE BOWERMAN DR\n",
      "\t\tCITY:\t\t\tBEAVERTON\n",
      "\t\tSTATE:\t\t\tOR\n",
      "\t\tZIP:\t\t\t97005-6453\n",
      "\t\tBUSINESS PHONE:\t\t5036713173\n",
      "\n",
      "\tMAIL ADDRESS:\t\n",
      "\t\tSTREET 1:\t\tONE BOWERMAN DR\n",
      "\t\tCITY:\t\t\tBEAVERTON\n",
      "\t\tSTATE:\t\t\tOR\n",
      "\t\tZIP:\t\t\t97005-6453\n",
      "</SEC-HEADER>\n",
      "<DOCUMENT>\n",
      "<TYPE>10-K\n",
      "<SEQUENCE>1\n",
      "<FILENAME>nke-5312017x1...\n"
     ]
    },
    {
     "name": "stderr",
     "output_type": "stream",
     "text": [
      "\n"
     ]
    }
   ],
   "source": [
    "raw_fillings_by_ticker = {}\n",
    "\n",
    "for ticker, data in sec_data.items():\n",
    "    raw_fillings_by_ticker[ticker] = {}\n",
    "    for index_url, file_type, file_date in tqdm(data, desc='Downloading {} Fillings'.format(ticker), unit='filling'):\n",
    "        if (file_type == '10-K'):\n",
    "            file_url = index_url.replace('-index.htm', '.txt').replace('.txtl', '.txt')            \n",
    "            \n",
    "            raw_fillings_by_ticker[ticker][file_date] = sec_api.get(file_url)\n",
    "\n",
    "\n",
    "print('Example Document:\\n\\n{}...'.format(next(iter(raw_fillings_by_ticker[example_ticker].values()))[:1000]))"
   ]
  },
  {
   "cell_type": "markdown",
   "metadata": {},
   "source": [
    "### Get Documents\n",
    "With theses fillings downloaded, we want to break them into their associated documents. These documents are sectioned off in the fillings with the tags `<DOCUMENT>` for the start of each document and `</DOCUMENT>` for the end of each document. There's no overlap with these documents, so each `</DOCUMENT>` tag should come after the `<DOCUMENT>` with no `<DOCUMENT>` tag in between.\n"
   ]
  },
  {
   "cell_type": "code",
   "execution_count": 1,
   "metadata": {},
   "outputs": [],
   "source": [
    "import re\n",
    "\n",
    "\n",
    "def get_documents(text):\n",
    "    \"\"\"\n",
    "    Extract the documents from the text\n",
    "\n",
    "    Parameters\n",
    "    ----------\n",
    "    text : str\n",
    "        The text with the document strings inside\n",
    "\n",
    "    Returns\n",
    "    -------\n",
    "    extracted_docs : list of str\n",
    "        The document strings found in `text`\n",
    "    \"\"\"\n",
    "    \n",
    "    # TODO: Implement\n",
    "    final_docs = []\n",
    "    start_regex = re.compile(r'<DOCUMENT>')\n",
    "    end_regex = re.compile(r'</DOCUMENT>')\n",
    "    \n",
    "    start_idx = [x.end() for x in re.finditer(start_regex, text)]\n",
    "    end_idx = [x.start() for x in re.finditer(end_regex, text)]\n",
    "    \n",
    "    for start_i, end_i in zip(start_idx, end_idx):\n",
    "        final_docs.append(text[start_i:end_i])\n",
    "    \n",
    "    \n",
    "    return final_docs\n"
   ]
  },
  {
   "cell_type": "markdown",
   "metadata": {},
   "source": [
    "With the `get_documents` function implemented, let's extract all the documents."
   ]
  },
  {
   "cell_type": "code",
   "execution_count": 156,
   "metadata": {
    "scrolled": false
   },
   "outputs": [
    {
     "name": "stderr",
     "output_type": "stream",
     "text": [
      "Getting Documents from AMZN Fillings: 100%|██████████| 17/17 [00:01<00:00,  8.53filling/s]\n",
      "Getting Documents from LLY Fillings: 100%|██████████| 21/21 [00:00<00:00, 49.41filling/s]\n",
      "Getting Documents from CNP Fillings: 100%|██████████| 15/15 [00:00<00:00, 41.03filling/s]\n",
      "Getting Documents from XOM Fillings: 100%|██████████| 22/22 [00:00<00:00, 48.63filling/s]\n",
      "Getting Documents from NKE Fillings: 100%|██████████| 21/21 [00:00<00:00, 73.07filling/s]\n",
      "Getting Documents from FRT Fillings: 100%|██████████| 19/19 [00:00<00:00, 27.05filling/s]\n",
      "Getting Documents from BA Fillings: 100%|██████████| 24/24 [00:04<00:00,  5.97filling/s]"
     ]
    },
    {
     "name": "stdout",
     "output_type": "stream",
     "text": [
      "Document 0 Filed on 2017-07-20:\n",
      "\n",
      "<TYPE>10-K\n",
      "<SEQUENCE>1\n",
      "<FILENAME>nke-5312017x10k.htm\n",
      "<DESCRIPTION>10-K\n",
      "<TEXT>\n",
      "<!DOCTYPE html PUBLIC \"-//W3C//DTD HTML 4.01 Transitional//EN\" \"http://www.w3.org/TR/html4/loose.dtd\">\n",
      "<html>\n",
      "\t<head>\n",
      "\t\t<...\n",
      "\n",
      "Document 1 Filed on 2017-07-20:\n",
      "\n",
      "<TYPE>EX-10.20\n",
      "<SEQUENCE>2\n",
      "<FILENAME>nke-5312017xexhibit1020.htm\n",
      "<DESCRIPTION>COVENANT NOT TO COMPETE AND NON-DISCLOSURE AGREEMENT\n",
      "<TEXT>\n",
      "<!DOCTYPE html PUBLIC \"-//W3C//DTD HTML 4.01 Transitional//EN...\n",
      "\n",
      "Document 2 Filed on 2017-07-20:\n",
      "\n",
      "<TYPE>EX-12.1\n",
      "<SEQUENCE>3\n",
      "<FILENAME>nke-5312017xexhibit121.htm\n",
      "<DESCRIPTION>COMPUTATION OF RATIO OF EARNINGS TO FIXED CHARGES\n",
      "<TEXT>\n",
      "<!DOCTYPE html PUBLIC \"-//W3C//DTD HTML 4.01 Transitional//EN\" \"ht...\n"
     ]
    },
    {
     "name": "stderr",
     "output_type": "stream",
     "text": [
      "\n"
     ]
    }
   ],
   "source": [
    "filling_documents_by_ticker = {}\n",
    "\n",
    "for ticker, raw_fillings in raw_fillings_by_ticker.items():\n",
    "    filling_documents_by_ticker[ticker] = {}\n",
    "    for file_date, filling in tqdm(raw_fillings.items(), desc='Getting Documents from {} Fillings'.format(ticker), unit='filling'):\n",
    "        filling_documents_by_ticker[ticker][file_date] = get_documents(filling)\n",
    "\n",
    "\n",
    "print('\\n\\n'.join([\n",
    "    'Document {} Filed on {}:\\n{}...'.format(doc_i, file_date, doc[:200])\n",
    "    for file_date, docs in filling_documents_by_ticker[example_ticker].items()\n",
    "    for doc_i, doc in enumerate(docs)][:3]))"
   ]
  },
  {
   "cell_type": "markdown",
   "metadata": {},
   "source": [
    "### Get Document Types\n",
    "Now that we have all the documents, we want to find the 10-k form in this 10-k filing. The `get_document_type` function returns the type of document given. The document type is located on a line with the `<TYPE>` tag. For example, a form of type \"TEST\" would have the line `<TYPE>TEST`. "
   ]
  },
  {
   "cell_type": "code",
   "execution_count": 2,
   "metadata": {},
   "outputs": [],
   "source": [
    "def get_document_type(doc):\n",
    "    \"\"\"\n",
    "    Return the document type lowercased\n",
    "\n",
    "    Parameters\n",
    "    ----------\n",
    "    doc : str\n",
    "        The document string\n",
    "\n",
    "    Returns\n",
    "    -------\n",
    "    doc_type : str\n",
    "        The document type lowercased\n",
    "    \"\"\"\n",
    "    \n",
    "    # TODO: Implement\n",
    "    # Regex explaination : Here I am tryng to do a positive lookbehind\n",
    "    # (?<=a)b (positive lookbehind) matches the b (and only the b) in cab, but does not match bed or debt.\n",
    "    # More reference : https://www.regular-expressions.info/lookaround.html\n",
    "    \n",
    "    type_regex = re.compile(r'(?<=<TYPE>)\\w+[^\\n]+') # gives out \\w\n",
    "    type_idx = re.search(type_regex, doc).group(0).lower()\n",
    "    return type_idx\n",
    "\n",
    "\n"
   ]
  },
  {
   "cell_type": "markdown",
   "metadata": {},
   "source": [
    "With the `get_document_type` function, we'll filter out all non 10-k documents."
   ]
  },
  {
   "cell_type": "code",
   "execution_count": 158,
   "metadata": {},
   "outputs": [
    {
     "name": "stdout",
     "output_type": "stream",
     "text": [
      "[\n",
      "  {\n",
      "    CIK: '0000320187'\n",
      "    ten_k: '\\n<TYPE>10-K\\n<SEQUENCE>1\\n<FILENAME>nke-5312017x...\n",
      "    file_date: '2017-07-20'},\n",
      "  {\n",
      "    CIK: '0000320187'\n",
      "    ten_k: '\\n<TYPE>10-K\\n<SEQUENCE>1\\n<FILENAME>nke-5312016x...\n",
      "    file_date: '2016-07-21'},\n",
      "  {\n",
      "    CIK: '0000320187'\n",
      "    ten_k: '\\n<TYPE>10-K\\n<SEQUENCE>1\\n<FILENAME>nke-5312015x...\n",
      "    file_date: '2015-07-23'},\n",
      "  {\n",
      "    CIK: '0000320187'\n",
      "    ten_k: '\\n<TYPE>10-K\\n<SEQUENCE>1\\n<FILENAME>nke-5312014x...\n",
      "    file_date: '2014-07-25'},\n",
      "  {\n",
      "    CIK: '0000320187'\n",
      "    ten_k: '\\n<TYPE>10-K\\n<SEQUENCE>1\\n<FILENAME>nke-5312013x...\n",
      "    file_date: '2013-07-23'},\n",
      "]\n"
     ]
    }
   ],
   "source": [
    "ten_ks_by_ticker = {}\n",
    "\n",
    "for ticker, filling_documents in filling_documents_by_ticker.items():\n",
    "    ten_ks_by_ticker[ticker] = []\n",
    "    for file_date, documents in filling_documents.items():\n",
    "        for document in documents:\n",
    "            if get_document_type(document) == '10-k':\n",
    "                ten_ks_by_ticker[ticker].append({\n",
    "                    'CIK': cik_lookup[ticker],\n",
    "                    'ten_k': document,\n",
    "                    'file_date': file_date})\n",
    "\n",
    "example_ticker='NKE'\n",
    "project_helper.print_ten_k_data(ten_ks_by_ticker[example_ticker][:5], ['CIK', 'ten_k', 'file_date'])"
   ]
  },
  {
   "cell_type": "markdown",
   "metadata": {},
   "source": [
    "## Preprocess the Data\n",
    "### Clean Up\n",
    "As you can see, the text for the documents are very messy. To clean this up, we'll remove the html and lowercase all the text."
   ]
  },
  {
   "cell_type": "code",
   "execution_count": 159,
   "metadata": {},
   "outputs": [],
   "source": [
    "def remove_html_tags(text):\n",
    "    text = BeautifulSoup(text, 'html.parser').get_text()\n",
    "    \n",
    "    return text\n",
    "\n",
    "\n",
    "def clean_text(text):\n",
    "    text = text.lower()\n",
    "    text = remove_html_tags(text)\n",
    "    \n",
    "    return text"
   ]
  },
  {
   "cell_type": "markdown",
   "metadata": {},
   "source": [
    "Using the `clean_text` function, we'll clean up all the documents."
   ]
  },
  {
   "cell_type": "code",
   "execution_count": 160,
   "metadata": {},
   "outputs": [
    {
     "name": "stderr",
     "output_type": "stream",
     "text": [
      "Cleaning AMZN 10-Ks: 100%|██████████| 17/17 [00:40<00:00,  2.39s/10-K]\n",
      "Cleaning LLY 10-Ks: 100%|██████████| 21/21 [00:32<00:00,  1.56s/10-K]\n",
      "Cleaning CNP 10-Ks: 100%|██████████| 15/15 [01:07<00:00,  4.48s/10-K]\n",
      "Cleaning XOM 10-Ks: 100%|██████████| 22/22 [02:19<00:00,  6.35s/10-K]\n",
      "Cleaning NKE 10-Ks: 100%|██████████| 21/21 [00:46<00:00,  2.20s/10-K]\n",
      "Cleaning FRT 10-Ks: 100%|██████████| 19/19 [01:04<00:00,  3.38s/10-K]\n",
      "Cleaning BA 10-Ks: 100%|██████████| 24/24 [00:59<00:00,  2.47s/10-K]"
     ]
    },
    {
     "name": "stdout",
     "output_type": "stream",
     "text": [
      "[\n",
      "  {\n",
      "    file_clean: '\\n10-k\\n1\\nnke-5312017x10k.htm\\n10-k\\n\\n\\n\\n\\n\\n\\...},\n",
      "  {\n",
      "    file_clean: '\\n10-k\\n1\\nnke-5312016x10k.htm\\n10-k\\n\\n\\n\\n\\n\\n\\...},\n",
      "  {\n",
      "    file_clean: '\\n10-k\\n1\\nnke-5312015x10k.htm\\n10-k\\n\\n\\n\\n\\n\\n\\...},\n",
      "  {\n",
      "    file_clean: '\\n10-k\\n1\\nnke-5312014x10k.htm\\n10-k\\n\\n\\n\\n\\n\\n\\...},\n",
      "  {\n",
      "    file_clean: '\\n10-k\\n1\\nnke-5312013x10k.htm\\n10-k\\n\\n\\n\\n\\n\\n\\...},\n",
      "]\n"
     ]
    },
    {
     "name": "stderr",
     "output_type": "stream",
     "text": [
      "\n"
     ]
    }
   ],
   "source": [
    "for ticker, ten_ks in ten_ks_by_ticker.items():\n",
    "    for ten_k in tqdm(ten_ks, desc='Cleaning {} 10-Ks'.format(ticker), unit='10-K'):\n",
    "        ten_k['file_clean'] = clean_text(ten_k['ten_k'])\n",
    "\n",
    "\n",
    "project_helper.print_ten_k_data(ten_ks_by_ticker[example_ticker][:5], ['file_clean'])"
   ]
  },
  {
   "cell_type": "markdown",
   "metadata": {},
   "source": [
    "### Lemmatize\n",
    "With the text cleaned up, it's time to distill the verbs down. The `lemmatize_words` function lemmatizes verbs in the list of words provided."
   ]
  },
  {
   "cell_type": "code",
   "execution_count": 3,
   "metadata": {},
   "outputs": [],
   "source": [
    "from nltk.stem import WordNetLemmatizer\n",
    "from nltk.corpus import wordnet\n",
    "\n",
    "\n",
    "def lemmatize_words(words):\n",
    "    \"\"\"\n",
    "    Lemmatize words \n",
    "\n",
    "    Parameters\n",
    "    ----------\n",
    "    words : list of str\n",
    "        List of words\n",
    "\n",
    "    Returns\n",
    "    -------\n",
    "    lemmatized_words : list of str\n",
    "        List of lemmatized words\n",
    "    \"\"\"\n",
    "    \n",
    "    # TODO: Implement\n",
    "    wnl = WordNetLemmatizer()\n",
    "    lemmatized_words = [wnl.lemmatize(word, 'v') for word in words]\n",
    "    \n",
    "    return lemmatized_words"
   ]
  },
  {
   "cell_type": "markdown",
   "metadata": {},
   "source": [
    "With the `lemmatize_words` function implemented, let's lemmatize all the data."
   ]
  },
  {
   "cell_type": "code",
   "execution_count": 162,
   "metadata": {},
   "outputs": [
    {
     "name": "stderr",
     "output_type": "stream",
     "text": [
      "Lemmatize AMZN 10-Ks: 100%|██████████| 17/17 [00:04<00:00,  3.8010-K/s]\n",
      "Lemmatize LLY 10-Ks: 100%|██████████| 21/21 [00:04<00:00,  4.4010-K/s]\n",
      "Lemmatize CNP 10-Ks: 100%|██████████| 15/15 [00:08<00:00,  1.8410-K/s]\n",
      "Lemmatize XOM 10-Ks: 100%|██████████| 22/22 [00:06<00:00,  3.4410-K/s]\n",
      "Lemmatize NKE 10-Ks: 100%|██████████| 21/21 [00:05<00:00,  3.5710-K/s]\n",
      "Lemmatize FRT 10-Ks: 100%|██████████| 19/19 [00:06<00:00,  3.1510-K/s]\n",
      "Lemmatize BA 10-Ks: 100%|██████████| 24/24 [00:09<00:00,  2.5810-K/s]"
     ]
    },
    {
     "name": "stdout",
     "output_type": "stream",
     "text": [
      "[\n",
      "  {\n",
      "    preprocessed_ten_k: '['10', 'k', '1', 'nke', '5312017x10k', 'htm', '10...},\n",
      "  {\n",
      "    preprocessed_ten_k: '['10', 'k', '1', 'nke', '5312016x10k', 'htm', '10...},\n",
      "  {\n",
      "    preprocessed_ten_k: '['10', 'k', '1', 'nke', '5312015x10k', 'htm', '10...},\n",
      "  {\n",
      "    preprocessed_ten_k: '['10', 'k', '1', 'nke', '5312014x10k', 'htm', '10...},\n",
      "  {\n",
      "    preprocessed_ten_k: '['10', 'k', '1', 'nke', '5312013x10k', 'htm', '10...},\n",
      "]\n"
     ]
    },
    {
     "name": "stderr",
     "output_type": "stream",
     "text": [
      "\n"
     ]
    }
   ],
   "source": [
    "word_pattern = re.compile('\\w+')\n",
    "\n",
    "for ticker, ten_ks in ten_ks_by_ticker.items():\n",
    "    for ten_k in tqdm(ten_ks, desc='Lemmatize {} 10-Ks'.format(ticker), unit='10-K'):\n",
    "        ten_k['preprocessed_ten_k'] = lemmatize_words(word_pattern.findall(ten_k['file_clean']))\n",
    "\n",
    "\n",
    "project_helper.print_ten_k_data(ten_ks_by_ticker['NKE'][:5], ['preprocessed_ten_k'])"
   ]
  },
  {
   "cell_type": "markdown",
   "metadata": {},
   "source": [
    "### Remove Stopwords"
   ]
  },
  {
   "cell_type": "code",
   "execution_count": 163,
   "metadata": {},
   "outputs": [
    {
     "name": "stderr",
     "output_type": "stream",
     "text": [
      "Remove Stop Words for AMZN 10-Ks: 100%|██████████| 17/17 [00:01<00:00,  8.5710-K/s]\n",
      "Remove Stop Words for LLY 10-Ks: 100%|██████████| 21/21 [00:02<00:00,  9.9010-K/s]\n",
      "Remove Stop Words for CNP 10-Ks: 100%|██████████| 15/15 [00:03<00:00,  4.2310-K/s]\n",
      "Remove Stop Words for XOM 10-Ks: 100%|██████████| 22/22 [00:02<00:00,  7.4910-K/s]\n",
      "Remove Stop Words for NKE 10-Ks: 100%|██████████| 21/21 [00:02<00:00,  8.0010-K/s]\n",
      "Remove Stop Words for FRT 10-Ks: 100%|██████████| 19/19 [00:02<00:00,  6.9210-K/s]\n",
      "Remove Stop Words for BA 10-Ks: 100%|██████████| 24/24 [00:04<00:00,  5.9510-K/s]"
     ]
    },
    {
     "name": "stdout",
     "output_type": "stream",
     "text": [
      "Stop Words Removed\n"
     ]
    },
    {
     "name": "stderr",
     "output_type": "stream",
     "text": [
      "\n"
     ]
    }
   ],
   "source": [
    "from nltk.corpus import stopwords\n",
    "\n",
    "\n",
    "lemma_english_stopwords = lemmatize_words(stopwords.words('english'))\n",
    "\n",
    "for ticker, ten_ks in ten_ks_by_ticker.items():\n",
    "    for ten_k in tqdm(ten_ks, desc='Remove Stop Words for {} 10-Ks'.format(ticker), unit='10-K'):\n",
    "        ten_k['preprocessed_ten_k'] = [word for word in ten_k['preprocessed_ten_k'] if word not in lemma_english_stopwords]\n",
    "\n",
    "\n",
    "print('Stop Words Removed')"
   ]
  },
  {
   "cell_type": "markdown",
   "metadata": {},
   "source": [
    "## Analysis on 10ks\n",
    "### Loughran McDonald Sentiment Word Lists\n",
    "We'll be using the Loughran and McDonald sentiment word lists. These word lists cover the following sentiment:\n",
    "- Negative \n",
    "- Positive\n",
    "- Uncertainty\n",
    "- Litigious\n",
    "- Constraining\n",
    "- Superfluous\n",
    "- Modal\n",
    "\n",
    "This will allow us to do the sentiment analysis on the 10-ks. Let's first load these word lists. We'll be looking into a few of these sentiments."
   ]
  },
  {
   "cell_type": "code",
   "execution_count": 165,
   "metadata": {},
   "outputs": [
    {
     "data": {
      "text/html": [
       "<div>\n",
       "<style scoped>\n",
       "    .dataframe tbody tr th:only-of-type {\n",
       "        vertical-align: middle;\n",
       "    }\n",
       "\n",
       "    .dataframe tbody tr th {\n",
       "        vertical-align: top;\n",
       "    }\n",
       "\n",
       "    .dataframe thead th {\n",
       "        text-align: right;\n",
       "    }\n",
       "</style>\n",
       "<table border=\"1\" class=\"dataframe\">\n",
       "  <thead>\n",
       "    <tr style=\"text-align: right;\">\n",
       "      <th></th>\n",
       "      <th>negative</th>\n",
       "      <th>positive</th>\n",
       "      <th>uncertainty</th>\n",
       "      <th>litigious</th>\n",
       "      <th>constraining</th>\n",
       "      <th>interesting</th>\n",
       "      <th>word</th>\n",
       "    </tr>\n",
       "  </thead>\n",
       "  <tbody>\n",
       "    <tr>\n",
       "      <th>84770</th>\n",
       "      <td>True</td>\n",
       "      <td>False</td>\n",
       "      <td>False</td>\n",
       "      <td>False</td>\n",
       "      <td>False</td>\n",
       "      <td>False</td>\n",
       "      <td>wrongdoing</td>\n",
       "    </tr>\n",
       "    <tr>\n",
       "      <th>84771</th>\n",
       "      <td>True</td>\n",
       "      <td>False</td>\n",
       "      <td>False</td>\n",
       "      <td>False</td>\n",
       "      <td>False</td>\n",
       "      <td>False</td>\n",
       "      <td>wrongdoings</td>\n",
       "    </tr>\n",
       "    <tr>\n",
       "      <th>84775</th>\n",
       "      <td>True</td>\n",
       "      <td>False</td>\n",
       "      <td>False</td>\n",
       "      <td>False</td>\n",
       "      <td>False</td>\n",
       "      <td>False</td>\n",
       "      <td>wrongful</td>\n",
       "    </tr>\n",
       "    <tr>\n",
       "      <th>84776</th>\n",
       "      <td>True</td>\n",
       "      <td>False</td>\n",
       "      <td>False</td>\n",
       "      <td>False</td>\n",
       "      <td>False</td>\n",
       "      <td>False</td>\n",
       "      <td>wrongfully</td>\n",
       "    </tr>\n",
       "    <tr>\n",
       "      <th>84784</th>\n",
       "      <td>True</td>\n",
       "      <td>False</td>\n",
       "      <td>False</td>\n",
       "      <td>False</td>\n",
       "      <td>False</td>\n",
       "      <td>False</td>\n",
       "      <td>wrongly</td>\n",
       "    </tr>\n",
       "  </tbody>\n",
       "</table>\n",
       "</div>"
      ],
      "text/plain": [
       "       negative  positive  uncertainty  litigious  constraining  interesting  \\\n",
       "84770      True     False        False      False         False        False   \n",
       "84771      True     False        False      False         False        False   \n",
       "84775      True     False        False      False         False        False   \n",
       "84776      True     False        False      False         False        False   \n",
       "84784      True     False        False      False         False        False   \n",
       "\n",
       "              word  \n",
       "84770   wrongdoing  \n",
       "84771  wrongdoings  \n",
       "84775     wrongful  \n",
       "84776   wrongfully  \n",
       "84784      wrongly  "
      ]
     },
     "execution_count": 165,
     "metadata": {},
     "output_type": "execute_result"
    }
   ],
   "source": [
    "import os\n",
    "import pandas as pd\n",
    "\n",
    "sentiments = ['negative', 'positive', 'uncertainty', 'litigious', 'constraining', 'interesting']\n",
    "\n",
    "sentiment_df = pd.read_csv(os.path.join('..', '..', 'data', 'project_5_loughran_mcdonald', 'loughran_mcdonald_master_dic_2016.csv'))\n",
    "sentiment_df.columns = [column.lower() for column in sentiment_df.columns] # Lowercase the columns for ease of use\n",
    "\n",
    "# Remove unused information\n",
    "sentiment_df = sentiment_df[sentiments + ['word']]\n",
    "sentiment_df[sentiments] = sentiment_df[sentiments].astype(bool)\n",
    "sentiment_df = sentiment_df[(sentiment_df[sentiments]).any(1)]\n",
    "\n",
    "# Apply the same preprocessing to these words as the 10-k words\n",
    "sentiment_df['word'] = lemmatize_words(sentiment_df['word'].str.lower())\n",
    "sentiment_df = sentiment_df.drop_duplicates('word')\n",
    "\n",
    "\n",
    "sentiment_df.tail()"
   ]
  },
  {
   "cell_type": "markdown",
   "metadata": {},
   "source": [
    "### Bag of Words\n",
    "using the sentiment word lists, let's generate sentiment bag of words from the 10-k documents. The `get_bag_of_words` function generates a bag of words that counts the number of sentiment words in each doc. "
   ]
  },
  {
   "cell_type": "code",
   "execution_count": 4,
   "metadata": {},
   "outputs": [],
   "source": [
    "from collections import defaultdict, Counter\n",
    "from sklearn.feature_extraction.text import CountVectorizer\n",
    "\n",
    "\n",
    "def get_bag_of_words(sentiment_words, docs):\n",
    "    \"\"\"\n",
    "    Generate a bag of words from documents for a certain sentiment\n",
    "\n",
    "    Parameters\n",
    "    ----------\n",
    "    sentiment_words: Pandas Series\n",
    "        Words that signify a certain sentiment\n",
    "    docs : list of str\n",
    "        List of documents used to generate bag of words\n",
    "\n",
    "    Returns\n",
    "    -------\n",
    "    bag_of_words : 2-d Numpy Ndarray of int\n",
    "        Bag of words sentiment for each document\n",
    "        The first dimension is the document.\n",
    "        The second dimension is the word.\n",
    "    \"\"\"\n",
    "    \n",
    "    # reference : https://scikit-learn.org/stable/modules/generated/sklearn.feature_extraction.text.CountVectorizer.html\n",
    "    \n",
    "    c_vectorizer = CountVectorizer(vocabulary=sentiment_words.values)\n",
    "    \n",
    "    # tokenization\n",
    "    X = c_vectorizer.fit_transform(docs)\n",
    "    \n",
    "    return X.toarray()\n"
   ]
  },
  {
   "cell_type": "markdown",
   "metadata": {},
   "source": [
    "Using the `get_bag_of_words` function, we'll generate a bag of words for all the documents."
   ]
  },
  {
   "cell_type": "code",
   "execution_count": 167,
   "metadata": {},
   "outputs": [
    {
     "name": "stdout",
     "output_type": "stream",
     "text": [
      "17\n",
      "21\n",
      "15\n",
      "22\n",
      "21\n",
      "19\n",
      "24\n",
      "[\n",
      "  {\n",
      "    negative: '[[0 0 0 ..., 0 0 0]\\n [0 0 0 ..., 0 0 0]\\n [0 0 0...\n",
      "    positive: '[[9 0 0 ..., 0 0 0]\\n [9 0 0 ..., 0 0 0]\\n [9 0 0...\n",
      "    uncertainty: '[[ 0  0  1 ...,  2  3 17]\\n [ 0  0  1 ...,  2  3 ...\n",
      "    litigious: '[[0 0 0 ..., 0 0 0]\\n [0 0 0 ..., 0 0 0]\\n [0 0 0...\n",
      "    constraining: '[[0 2 0 ..., 0 0 0]\\n [0 2 0 ..., 0 0 0]\\n [0 2 0...\n",
      "    interesting: '[[1 0 0 ..., 0 0 0]\\n [1 0 0 ..., 0 0 0]\\n [1 0 0...},\n",
      "]\n"
     ]
    }
   ],
   "source": [
    "sentiment_bow_ten_ks = {}\n",
    "\n",
    "for ticker, ten_ks in ten_ks_by_ticker.items():\n",
    "    lemma_docs = [' '.join(ten_k['preprocessed_ten_k']) for ten_k in ten_ks]\n",
    "    print(len(lemma_docs))\n",
    "    #print(lemma_docs[:2])\n",
    "    \n",
    "    sentiment_bow_ten_ks[ticker] = {\n",
    "        sentiment: get_bag_of_words(sentiment_df[sentiment_df[sentiment]]['word'], lemma_docs)\n",
    "        for sentiment in sentiments}"
   ]
  },
  {
   "cell_type": "markdown",
   "metadata": {},
   "source": [
    "Using the `get_jaccard_similarity` function, let's plot the similarities over time."
   ]
  },
  {
   "cell_type": "markdown",
   "metadata": {},
   "source": [
    "### TFIDF\n",
    "using the sentiment word lists, let's generate sentiment TFIDF from the 10-k documents. The `get_tfidf` function generates TFIDF from each document, using sentiment words as the terms. "
   ]
  },
  {
   "cell_type": "code",
   "execution_count": 5,
   "metadata": {},
   "outputs": [],
   "source": [
    "from sklearn.feature_extraction.text import TfidfVectorizer\n",
    "\n",
    "\n",
    "def get_tfidf(sentiment_words, docs):\n",
    "    \"\"\"\n",
    "    Generate TFIDF values from documents for a certain sentiment\n",
    "\n",
    "    Parameters\n",
    "    ----------\n",
    "    sentiment_words: Pandas Series\n",
    "        Words that signify a certain sentiment\n",
    "    docs : list of str\n",
    "        List of documents used to generate bag of words\n",
    "\n",
    "    Returns\n",
    "    -------\n",
    "    tfidf : 2-d Numpy Ndarray of float\n",
    "        TFIDF sentiment for each document\n",
    "        The first dimension is the document.\n",
    "        The second dimension is the word.\n",
    "    \"\"\"\n",
    "    \n",
    "    # TODO: Implement\n",
    "    tfidf_vector = TfidfVectorizer(vocabulary=sentiment_words.values)\n",
    "    X = tfidf_vector.fit_transform(docs)\n",
    "    \n",
    "    return X.toarray()\n"
   ]
  },
  {
   "cell_type": "markdown",
   "metadata": {},
   "source": [
    "Using the `get_tfidf` function, let's generate the TFIDF values for all the documents."
   ]
  },
  {
   "cell_type": "code",
   "execution_count": 172,
   "metadata": {},
   "outputs": [
    {
     "name": "stdout",
     "output_type": "stream",
     "text": [
      "[\n",
      "  {\n",
      "    negative: '[[ 0.  0.  0. ...,  0.  0.  0.]\\n [ 0.  0.  0. .....\n",
      "    positive: '[[ 0.10940495  0.          0.         ...,  0.   ...\n",
      "    uncertainty: '[[ 0.          0.          0.00263439 ...,  0.007...\n",
      "    litigious: '[[ 0.  0.  0. ...,  0.  0.  0.]\\n [ 0.  0.  0. .....\n",
      "    constraining: '[[ 0.          0.02561362  0.         ...,  0.   ...\n",
      "    interesting: '[[ 0.00467568  0.          0.         ...,  0.   ...},\n",
      "]\n"
     ]
    }
   ],
   "source": [
    "sentiment_tfidf_ten_ks = {}\n",
    "\n",
    "for ticker, ten_ks in ten_ks_by_ticker.items():\n",
    "    lemma_docs = [' '.join(ten_k['preprocessed_ten_k']) for ten_k in ten_ks]\n",
    "    \n",
    "    sentiment_tfidf_ten_ks[ticker] = {\n",
    "        sentiment: get_tfidf(sentiment_df[sentiment_df[sentiment]]['word'], lemma_docs)\n",
    "        for sentiment in sentiments}\n"
   ]
  },
  {
   "cell_type": "markdown",
   "metadata": {},
   "source": [
    "### Cosine Similarity\n",
    "Using the TFIDF values, we'll calculate the cosine similarity and plot it over time. Function `get_cosine_similarity`  returns the cosine similarities between each tick in time. Since the input, `tfidf_matrix`, is a TFIDF vector for each time period in order, we just need to computer the cosine similarities for each neighboring vector."
   ]
  },
  {
   "cell_type": "code",
   "execution_count": 6,
   "metadata": {},
   "outputs": [],
   "source": [
    "from sklearn.metrics.pairwise import cosine_similarity\n",
    "\n",
    "\n",
    "def get_cosine_similarity(tfidf_matrix):\n",
    "    \"\"\"\n",
    "    Get cosine similarities for each neighboring TFIDF vector/document\n",
    "\n",
    "    Parameters\n",
    "    ----------\n",
    "    tfidf : 2-d Numpy Ndarray of float\n",
    "        TFIDF sentiment for each document\n",
    "        The first dimension is the document.\n",
    "        The second dimension is the word.\n",
    "\n",
    "    Returns\n",
    "    -------\n",
    "    cosine_similarities : list of float\n",
    "        Cosine similarities for neighboring documents\n",
    "    \"\"\"\n",
    "    \n",
    "    # TODO: Implement\n",
    "    # Use k>0 for diagonals above the main diagonal, and k<0 for diagonals below the main diagonal.\n",
    "    cosine_sim = list(np.diag(cosine_similarity(tfidf_matrix, tfidf_matrix), k=1))\n",
    "    #print(cosine_sim)\n",
    "    return cosine_sim\n"
   ]
  },
  {
   "cell_type": "code",
   "execution_count": 174,
   "metadata": {},
   "outputs": [],
   "source": [
    "cik_lookup = {\n",
    "    'AMZN': '0001018724',\n",
    "    'LLY': '0000059478',   \n",
    "    'CNP': '0001130310',\n",
    "    'XOM': '0000034088',\n",
    "    'NKE': '0000320187',\n",
    "    'FRT': '0000034903',\n",
    "    'BA': '0000012927'}"
   ]
  },
  {
   "cell_type": "markdown",
   "metadata": {},
   "source": [
    "Let's plot the cosine similarities over time."
   ]
  },
  {
   "cell_type": "code",
   "execution_count": 175,
   "metadata": {},
   "outputs": [
    {
     "name": "stdout",
     "output_type": "stream",
     "text": [
      "negative = [0.98431114162338007, 0.99037047297085057, 0.99021273198863835, 0.96815726216763043, 0.97972290373447191, 0.98380272386352263, 0.9800784195072233, 0.97417601601869874, 0.96817200448645624, 0.97986414372584052, 0.95094070267614772, 0.94833579367193643, 0.90449923679845246, 0.9356766219564725, 0.73475381687218722, 0.76463549655228635, 0.90650841757975797, 0.71727732621060325, 0.57739092293041261, 0.63772300952814276, 0.61740082360731408, 0.9215537370703013, 0.86990102048943763]\n",
      "\n",
      "positive = [0.99694333190095996, 0.99820168711676127, 0.9977519415644186, 0.99792359626227056, 0.98915277965019432, 0.99161093488300089, 0.99326240222250839, 0.99545865133840461, 0.98957973148159373, 0.99115818536634248, 0.98727578217091105, 0.97559268792354015, 0.9772759417379987, 0.96293937848790712, 0.50012826685462231, 0.47858141440826651, 0.97847386435334727, 0.94801490585620851, 0.22126690649420189, 0.26849014171030661, 0.77671418061443209, 0.86285717711905363, 0.843177844634447]\n",
      "\n",
      "litigious = [0.99846310377535052, 0.99925468528606209, 0.99125305501055827, 0.99609165605110495, 0.99700862352731767, 0.99589913168631594, 0.99402865318486544, 0.99443830889787821, 0.98820464721588697, 0.99486039380910873, 0.98429753933077702, 0.99377322290600001, 0.97911962023745303, 0.97452832950709811, 0.26118852973901652, 0.35825913997570225, 0.94608033328556307, 0.7817294919248583, 0.47994030896818241, 0.97659062345763925, 0.88176812174811647, 0.95323310519745985, 0.78343024618589208]\n",
      "\n",
      "constraining = [0.99924338270082624, 0.99908815367270976, 0.99776637792804768, 0.99247971345280306, 0.99214496155877885, 0.99687751124919932, 0.99448721561655506, 0.99333407358444659, 0.9954636706325255, 0.99663644601216106, 0.97957088436144402, 0.96409232050310556, 0.99074907325754957, 0.97378847868062102, 0.55204105779597124, 0.61519175268299031, 0.97621644747484138, 0.98941294842710825, 0.76543414515816821, 0.77187949263140199, 0.86507647568012325, 0.96288754140044364, 0.9011245694677118]\n",
      "\n",
      "interesting = [0.99880431064118147, 0.98329592258972098, 0.9959835644188505, 0.99591176256021696, 0.99738582386575281, 0.99347564043510628, 0.98967382343947274, 0.98859802976561961, 0.9874230134901133, 0.99399175127742434, 0.98781942788543264, 0.98243048486531415, 0.99411928497639623, 0.99137840475212391, 0.98287269208880401, 0.98387780016356929, 0.9967188706022202, 0.98065587937136767, 0.95561959355919612, 0.96427711040398767, 0.93322701215288684, 0.97743920798167838, 0.89848392929966137]\n",
      "\n",
      "date = ['2016-02-10', '2015-02-12', '2014-02-14', '2013-02-11', '2012-02-09', '2011-02-09', '2010-02-08', '2009-02-09', '2008-02-15', '2007-02-16', '2006-02-28', '2005-02-28', '2004-03-05', '2003-02-27', '2002-03-08', '2001-03-09', '2000-03-08', '1999-03-05', '1998-03-04', '1997-03-10', '1996-03-13', '1995-03-09', '1994-03-17']\n"
     ]
    },
    {
     "data": {
      "image/png": "[encoded data removed]",
      "text/plain": [
       "<matplotlib.figure.Figure at 0x7f29099cada0>"
      ]
     },
     "metadata": {
      "needs_background": "light"
     },
     "output_type": "display_data"
    }
   ],
   "source": [
    "cosine_similarities = {\n",
    "    ticker: {\n",
    "        sentiment_name: get_cosine_similarity(sentiment_values)\n",
    "        for sentiment_name, sentiment_values in ten_k_sentiments.items()}\n",
    "    for ticker, ten_k_sentiments in sentiment_tfidf_ten_ks.items()}\n",
    "\n",
    "example_ticker = 'BA'\n",
    "sentiments =['negative', 'positive', 'litigious', 'constraining', 'interesting']\n",
    "for sentiment in sentiments:\n",
    "    print('{} = {}\\n'.format(sentiment, cosine_similarities[example_ticker][sentiment]))\n",
    "\n",
    "print('{} = {}'.format('date', file_dates[example_ticker][1:]))\n",
    "\n",
    "project_helper.plot_similarities(\n",
    "    [cosine_similarities[example_ticker][sentiment] for sentiment in sentiments],\n",
    "    file_dates[example_ticker][1:],\n",
    "    'Cosine Similarities for {} Sentiment'.format(example_ticker),\n",
    "    sentiments)"
   ]
  },
  {
   "cell_type": "markdown",
   "metadata": {},
   "source": []
  },
  {
   "cell_type": "markdown",
   "metadata": {},
   "source": [
    "## Evaluate Alpha Factors\n",
    "Let's evaluate the alpha factors. \n",
    "### Price Data\n",
    "Let's get yearly pricing to run the factor against, since 10-Ks are produced annually."
   ]
  },
  {
   "cell_type": "markdown",
   "metadata": {},
   "source": [
    "### Dict to DataFrame\n",
    "The alphalens library uses dataframes, so we we'll need to turn our dictionary into a dataframe. "
   ]
  },
  {
   "cell_type": "code",
   "execution_count": 186,
   "metadata": {},
   "outputs": [
    {
     "data": {
      "text/html": [
       "<div>\n",
       "<style scoped>\n",
       "    .dataframe tbody tr th:only-of-type {\n",
       "        vertical-align: middle;\n",
       "    }\n",
       "\n",
       "    .dataframe tbody tr th {\n",
       "        vertical-align: top;\n",
       "    }\n",
       "\n",
       "    .dataframe thead th {\n",
       "        text-align: right;\n",
       "    }\n",
       "</style>\n",
       "<table border=\"1\" class=\"dataframe\">\n",
       "  <thead>\n",
       "    <tr style=\"text-align: right;\">\n",
       "      <th>ticker</th>\n",
       "      <th>A</th>\n",
       "      <th>AA</th>\n",
       "      <th>AAAP</th>\n",
       "      <th>AABA</th>\n",
       "      <th>AAC</th>\n",
       "      <th>AADR</th>\n",
       "      <th>AAIT</th>\n",
       "      <th>AAL</th>\n",
       "      <th>AAMC</th>\n",
       "      <th>AAME</th>\n",
       "      <th>...</th>\n",
       "      <th>ZUMZ</th>\n",
       "      <th>ZUO</th>\n",
       "      <th>ZVZZC</th>\n",
       "      <th>ZVZZCNX</th>\n",
       "      <th>ZX</th>\n",
       "      <th>ZXYZ_A</th>\n",
       "      <th>ZYME</th>\n",
       "      <th>ZYNE</th>\n",
       "      <th>ZZK</th>\n",
       "      <th>ZZZ</th>\n",
       "    </tr>\n",
       "    <tr>\n",
       "      <th>date</th>\n",
       "      <th></th>\n",
       "      <th></th>\n",
       "      <th></th>\n",
       "      <th></th>\n",
       "      <th></th>\n",
       "      <th></th>\n",
       "      <th></th>\n",
       "      <th></th>\n",
       "      <th></th>\n",
       "      <th></th>\n",
       "      <th></th>\n",
       "      <th></th>\n",
       "      <th></th>\n",
       "      <th></th>\n",
       "      <th></th>\n",
       "      <th></th>\n",
       "      <th></th>\n",
       "      <th></th>\n",
       "      <th></th>\n",
       "      <th></th>\n",
       "      <th></th>\n",
       "    </tr>\n",
       "  </thead>\n",
       "  <tbody>\n",
       "    <tr>\n",
       "      <th>1962-01-01</th>\n",
       "      <td>nan</td>\n",
       "      <td>nan</td>\n",
       "      <td>nan</td>\n",
       "      <td>nan</td>\n",
       "      <td>nan</td>\n",
       "      <td>nan</td>\n",
       "      <td>nan</td>\n",
       "      <td>nan</td>\n",
       "      <td>nan</td>\n",
       "      <td>nan</td>\n",
       "      <td>...</td>\n",
       "      <td>nan</td>\n",
       "      <td>nan</td>\n",
       "      <td>nan</td>\n",
       "      <td>nan</td>\n",
       "      <td>nan</td>\n",
       "      <td>nan</td>\n",
       "      <td>nan</td>\n",
       "      <td>nan</td>\n",
       "      <td>nan</td>\n",
       "      <td>nan</td>\n",
       "    </tr>\n",
       "    <tr>\n",
       "      <th>1963-01-01</th>\n",
       "      <td>nan</td>\n",
       "      <td>nan</td>\n",
       "      <td>nan</td>\n",
       "      <td>nan</td>\n",
       "      <td>nan</td>\n",
       "      <td>nan</td>\n",
       "      <td>nan</td>\n",
       "      <td>nan</td>\n",
       "      <td>nan</td>\n",
       "      <td>nan</td>\n",
       "      <td>...</td>\n",
       "      <td>nan</td>\n",
       "      <td>nan</td>\n",
       "      <td>nan</td>\n",
       "      <td>nan</td>\n",
       "      <td>nan</td>\n",
       "      <td>nan</td>\n",
       "      <td>nan</td>\n",
       "      <td>nan</td>\n",
       "      <td>nan</td>\n",
       "      <td>nan</td>\n",
       "    </tr>\n",
       "    <tr>\n",
       "      <th>1964-01-01</th>\n",
       "      <td>nan</td>\n",
       "      <td>nan</td>\n",
       "      <td>nan</td>\n",
       "      <td>nan</td>\n",
       "      <td>nan</td>\n",
       "      <td>nan</td>\n",
       "      <td>nan</td>\n",
       "      <td>nan</td>\n",
       "      <td>nan</td>\n",
       "      <td>nan</td>\n",
       "      <td>...</td>\n",
       "      <td>nan</td>\n",
       "      <td>nan</td>\n",
       "      <td>nan</td>\n",
       "      <td>nan</td>\n",
       "      <td>nan</td>\n",
       "      <td>nan</td>\n",
       "      <td>nan</td>\n",
       "      <td>nan</td>\n",
       "      <td>nan</td>\n",
       "      <td>nan</td>\n",
       "    </tr>\n",
       "    <tr>\n",
       "      <th>1965-01-01</th>\n",
       "      <td>nan</td>\n",
       "      <td>nan</td>\n",
       "      <td>nan</td>\n",
       "      <td>nan</td>\n",
       "      <td>nan</td>\n",
       "      <td>nan</td>\n",
       "      <td>nan</td>\n",
       "      <td>nan</td>\n",
       "      <td>nan</td>\n",
       "      <td>nan</td>\n",
       "      <td>...</td>\n",
       "      <td>nan</td>\n",
       "      <td>nan</td>\n",
       "      <td>nan</td>\n",
       "      <td>nan</td>\n",
       "      <td>nan</td>\n",
       "      <td>nan</td>\n",
       "      <td>nan</td>\n",
       "      <td>nan</td>\n",
       "      <td>nan</td>\n",
       "      <td>nan</td>\n",
       "    </tr>\n",
       "    <tr>\n",
       "      <th>1966-01-01</th>\n",
       "      <td>nan</td>\n",
       "      <td>nan</td>\n",
       "      <td>nan</td>\n",
       "      <td>nan</td>\n",
       "      <td>nan</td>\n",
       "      <td>nan</td>\n",
       "      <td>nan</td>\n",
       "      <td>nan</td>\n",
       "      <td>nan</td>\n",
       "      <td>nan</td>\n",
       "      <td>...</td>\n",
       "      <td>nan</td>\n",
       "      <td>nan</td>\n",
       "      <td>nan</td>\n",
       "      <td>nan</td>\n",
       "      <td>nan</td>\n",
       "      <td>nan</td>\n",
       "      <td>nan</td>\n",
       "      <td>nan</td>\n",
       "      <td>nan</td>\n",
       "      <td>nan</td>\n",
       "    </tr>\n",
       "  </tbody>\n",
       "</table>\n",
       "<p>5 rows × 11941 columns</p>\n",
       "</div>"
      ],
      "text/plain": [
       "ticker       A  AA  AAAP  AABA  AAC  AADR  AAIT  AAL  AAMC  AAME ...   ZUMZ  \\\n",
       "date                                                             ...          \n",
       "1962-01-01 nan nan   nan   nan  nan   nan   nan  nan   nan   nan ...    nan   \n",
       "1963-01-01 nan nan   nan   nan  nan   nan   nan  nan   nan   nan ...    nan   \n",
       "1964-01-01 nan nan   nan   nan  nan   nan   nan  nan   nan   nan ...    nan   \n",
       "1965-01-01 nan nan   nan   nan  nan   nan   nan  nan   nan   nan ...    nan   \n",
       "1966-01-01 nan nan   nan   nan  nan   nan   nan  nan   nan   nan ...    nan   \n",
       "\n",
       "ticker      ZUO  ZVZZC  ZVZZCNX  ZX  ZXYZ_A  ZYME  ZYNE  ZZK  ZZZ  \n",
       "date                                                               \n",
       "1962-01-01  nan    nan      nan nan     nan   nan   nan  nan  nan  \n",
       "1963-01-01  nan    nan      nan nan     nan   nan   nan  nan  nan  \n",
       "1964-01-01  nan    nan      nan nan     nan   nan   nan  nan  nan  \n",
       "1965-01-01  nan    nan      nan nan     nan   nan   nan  nan  nan  \n",
       "1966-01-01  nan    nan      nan nan     nan   nan   nan  nan  nan  \n",
       "\n",
       "[5 rows x 11941 columns]"
      ]
     },
     "execution_count": 186,
     "metadata": {},
     "output_type": "execute_result"
    }
   ],
   "source": [
    "# 5 year data was curated by using Quandl end of day US Stock Prices database, Accessed: 2020-10\n",
    "pricing = pd.read_csv('../../data/project_5_yr/yr-quotemedia.csv', parse_dates=['date'])\n",
    "pricing = pricing.pivot(index='date', columns='ticker', values='adj_close')\n",
    "\n",
    "\n",
    "pricing.head()"
   ]
  },
  {
   "cell_type": "code",
   "execution_count": 187,
   "metadata": {},
   "outputs": [
    {
     "data": {
      "text/html": [
       "<div>\n",
       "<style scoped>\n",
       "    .dataframe tbody tr th:only-of-type {\n",
       "        vertical-align: middle;\n",
       "    }\n",
       "\n",
       "    .dataframe tbody tr th {\n",
       "        vertical-align: top;\n",
       "    }\n",
       "\n",
       "    .dataframe thead th {\n",
       "        text-align: right;\n",
       "    }\n",
       "</style>\n",
       "<table border=\"1\" class=\"dataframe\">\n",
       "  <thead>\n",
       "    <tr style=\"text-align: right;\">\n",
       "      <th></th>\n",
       "      <th>date</th>\n",
       "      <th>ticker</th>\n",
       "      <th>sentiment</th>\n",
       "      <th>value</th>\n",
       "    </tr>\n",
       "  </thead>\n",
       "  <tbody>\n",
       "    <tr>\n",
       "      <th>0</th>\n",
       "      <td>2016-01-01</td>\n",
       "      <td>AMZN</td>\n",
       "      <td>negative</td>\n",
       "      <td>0.98065125</td>\n",
       "    </tr>\n",
       "    <tr>\n",
       "      <th>1</th>\n",
       "      <td>2015-01-01</td>\n",
       "      <td>AMZN</td>\n",
       "      <td>negative</td>\n",
       "      <td>0.95951741</td>\n",
       "    </tr>\n",
       "    <tr>\n",
       "      <th>2</th>\n",
       "      <td>2014-01-01</td>\n",
       "      <td>AMZN</td>\n",
       "      <td>negative</td>\n",
       "      <td>0.98838551</td>\n",
       "    </tr>\n",
       "    <tr>\n",
       "      <th>3</th>\n",
       "      <td>2013-01-01</td>\n",
       "      <td>AMZN</td>\n",
       "      <td>negative</td>\n",
       "      <td>0.97472377</td>\n",
       "    </tr>\n",
       "    <tr>\n",
       "      <th>4</th>\n",
       "      <td>2012-01-01</td>\n",
       "      <td>AMZN</td>\n",
       "      <td>negative</td>\n",
       "      <td>0.97585100</td>\n",
       "    </tr>\n",
       "    <tr>\n",
       "      <th>5</th>\n",
       "      <td>2011-01-01</td>\n",
       "      <td>AMZN</td>\n",
       "      <td>negative</td>\n",
       "      <td>0.97658031</td>\n",
       "    </tr>\n",
       "    <tr>\n",
       "      <th>6</th>\n",
       "      <td>2010-01-01</td>\n",
       "      <td>AMZN</td>\n",
       "      <td>negative</td>\n",
       "      <td>0.98103103</td>\n",
       "    </tr>\n",
       "    <tr>\n",
       "      <th>7</th>\n",
       "      <td>2009-01-01</td>\n",
       "      <td>AMZN</td>\n",
       "      <td>negative</td>\n",
       "      <td>0.93653965</td>\n",
       "    </tr>\n",
       "    <tr>\n",
       "      <th>8</th>\n",
       "      <td>2008-01-01</td>\n",
       "      <td>AMZN</td>\n",
       "      <td>negative</td>\n",
       "      <td>0.98808037</td>\n",
       "    </tr>\n",
       "    <tr>\n",
       "      <th>9</th>\n",
       "      <td>2007-01-01</td>\n",
       "      <td>AMZN</td>\n",
       "      <td>negative</td>\n",
       "      <td>0.98288202</td>\n",
       "    </tr>\n",
       "    <tr>\n",
       "      <th>10</th>\n",
       "      <td>2006-01-01</td>\n",
       "      <td>AMZN</td>\n",
       "      <td>negative</td>\n",
       "      <td>0.92710892</td>\n",
       "    </tr>\n",
       "    <tr>\n",
       "      <th>11</th>\n",
       "      <td>2005-01-01</td>\n",
       "      <td>AMZN</td>\n",
       "      <td>negative</td>\n",
       "      <td>0.95953508</td>\n",
       "    </tr>\n",
       "    <tr>\n",
       "      <th>12</th>\n",
       "      <td>2004-01-01</td>\n",
       "      <td>AMZN</td>\n",
       "      <td>negative</td>\n",
       "      <td>0.79804240</td>\n",
       "    </tr>\n",
       "    <tr>\n",
       "      <th>13</th>\n",
       "      <td>2003-01-01</td>\n",
       "      <td>AMZN</td>\n",
       "      <td>negative</td>\n",
       "      <td>0.95749124</td>\n",
       "    </tr>\n",
       "    <tr>\n",
       "      <th>14</th>\n",
       "      <td>2000-01-01</td>\n",
       "      <td>AMZN</td>\n",
       "      <td>negative</td>\n",
       "      <td>0.87599369</td>\n",
       "    </tr>\n",
       "    <tr>\n",
       "      <th>15</th>\n",
       "      <td>1999-01-01</td>\n",
       "      <td>AMZN</td>\n",
       "      <td>negative</td>\n",
       "      <td>0.92859157</td>\n",
       "    </tr>\n",
       "    <tr>\n",
       "      <th>16</th>\n",
       "      <td>2016-01-01</td>\n",
       "      <td>AMZN</td>\n",
       "      <td>positive</td>\n",
       "      <td>0.99505527</td>\n",
       "    </tr>\n",
       "    <tr>\n",
       "      <th>17</th>\n",
       "      <td>2015-01-01</td>\n",
       "      <td>AMZN</td>\n",
       "      <td>positive</td>\n",
       "      <td>0.99446855</td>\n",
       "    </tr>\n",
       "    <tr>\n",
       "      <th>18</th>\n",
       "      <td>2014-01-01</td>\n",
       "      <td>AMZN</td>\n",
       "      <td>positive</td>\n",
       "      <td>0.99288655</td>\n",
       "    </tr>\n",
       "    <tr>\n",
       "      <th>19</th>\n",
       "      <td>2013-01-01</td>\n",
       "      <td>AMZN</td>\n",
       "      <td>positive</td>\n",
       "      <td>0.98234804</td>\n",
       "    </tr>\n",
       "  </tbody>\n",
       "</table>\n",
       "</div>"
      ],
      "text/plain": [
       "         date ticker sentiment      value\n",
       "0  2016-01-01   AMZN  negative 0.98065125\n",
       "1  2015-01-01   AMZN  negative 0.95951741\n",
       "2  2014-01-01   AMZN  negative 0.98838551\n",
       "3  2013-01-01   AMZN  negative 0.97472377\n",
       "4  2012-01-01   AMZN  negative 0.97585100\n",
       "5  2011-01-01   AMZN  negative 0.97658031\n",
       "6  2010-01-01   AMZN  negative 0.98103103\n",
       "7  2009-01-01   AMZN  negative 0.93653965\n",
       "8  2008-01-01   AMZN  negative 0.98808037\n",
       "9  2007-01-01   AMZN  negative 0.98288202\n",
       "10 2006-01-01   AMZN  negative 0.92710892\n",
       "11 2005-01-01   AMZN  negative 0.95953508\n",
       "12 2004-01-01   AMZN  negative 0.79804240\n",
       "13 2003-01-01   AMZN  negative 0.95749124\n",
       "14 2000-01-01   AMZN  negative 0.87599369\n",
       "15 1999-01-01   AMZN  negative 0.92859157\n",
       "16 2016-01-01   AMZN  positive 0.99505527\n",
       "17 2015-01-01   AMZN  positive 0.99446855\n",
       "18 2014-01-01   AMZN  positive 0.99288655\n",
       "19 2013-01-01   AMZN  positive 0.98234804"
      ]
     },
     "execution_count": 187,
     "metadata": {},
     "output_type": "execute_result"
    }
   ],
   "source": [
    "cosine_similarities_df_dict = {'date': [], 'ticker': [], 'sentiment': [], 'value': []}\n",
    "\n",
    "\n",
    "for ticker, ten_k_sentiments in cosine_similarities.items():\n",
    "    for sentiment_name, sentiment_values in ten_k_sentiments.items():\n",
    "        for sentiment_values, sentiment_value in enumerate(sentiment_values):\n",
    "            cosine_similarities_df_dict['ticker'].append(ticker)\n",
    "            cosine_similarities_df_dict['sentiment'].append(sentiment_name)\n",
    "            cosine_similarities_df_dict['value'].append(sentiment_value)\n",
    "            cosine_similarities_df_dict['date'].append(file_dates[ticker][1:][sentiment_values])\n",
    "\n",
    "cosine_similarities_df = pd.DataFrame(cosine_similarities_df_dict)\n",
    "cosine_similarities_df['date'] = pd.DatetimeIndex(cosine_similarities_df['date']).year\n",
    "cosine_similarities_df['date'] = pd.to_datetime(cosine_similarities_df['date'], format='%Y')\n",
    "\n",
    "\n",
    "cosine_similarities_df.head(20)"
   ]
  },
  {
   "cell_type": "markdown",
   "metadata": {},
   "source": [
    "### Alphalens Format\n",
    "In order to use a lot of the alphalens functions, we need to aligned the indices and convert the time to unix timestamp. In this next cell, we'll do just that."
   ]
  },
  {
   "cell_type": "code",
   "execution_count": 188,
   "metadata": {},
   "outputs": [
    {
     "name": "stdout",
     "output_type": "stream",
     "text": [
      "Dropped 0.0% entries from factor data: 0.0% in forward returns computation and 0.0% in binning phase (set max_loss=0 to see potentially suppressed Exceptions).\n",
      "max_loss is 35.0%, not exceeded: OK!\n",
      "Dropped 0.0% entries from factor data: 0.0% in forward returns computation and 0.0% in binning phase (set max_loss=0 to see potentially suppressed Exceptions).\n",
      "max_loss is 35.0%, not exceeded: OK!\n",
      "Dropped 0.0% entries from factor data: 0.0% in forward returns computation and 0.0% in binning phase (set max_loss=0 to see potentially suppressed Exceptions).\n",
      "max_loss is 35.0%, not exceeded: OK!\n",
      "Dropped 0.0% entries from factor data: 0.0% in forward returns computation and 0.0% in binning phase (set max_loss=0 to see potentially suppressed Exceptions).\n",
      "max_loss is 35.0%, not exceeded: OK!\n",
      "Dropped 0.0% entries from factor data: 0.0% in forward returns computation and 0.0% in binning phase (set max_loss=0 to see potentially suppressed Exceptions).\n",
      "max_loss is 35.0%, not exceeded: OK!\n"
     ]
    },
    {
     "data": {
      "text/html": [
       "<div>\n",
       "<style scoped>\n",
       "    .dataframe tbody tr th:only-of-type {\n",
       "        vertical-align: middle;\n",
       "    }\n",
       "\n",
       "    .dataframe tbody tr th {\n",
       "        vertical-align: top;\n",
       "    }\n",
       "\n",
       "    .dataframe thead th {\n",
       "        text-align: right;\n",
       "    }\n",
       "</style>\n",
       "<table border=\"1\" class=\"dataframe\">\n",
       "  <thead>\n",
       "    <tr style=\"text-align: right;\">\n",
       "      <th></th>\n",
       "      <th></th>\n",
       "      <th>1D</th>\n",
       "      <th>factor</th>\n",
       "      <th>factor_quantile</th>\n",
       "    </tr>\n",
       "    <tr>\n",
       "      <th>date</th>\n",
       "      <th>asset</th>\n",
       "      <th></th>\n",
       "      <th></th>\n",
       "      <th></th>\n",
       "    </tr>\n",
       "  </thead>\n",
       "  <tbody>\n",
       "    <tr>\n",
       "      <th rowspan=\"4\" valign=\"top\">1994-01-01</th>\n",
       "      <th>BA</th>\n",
       "      <td>0.69666598</td>\n",
       "      <td>0.86990102</td>\n",
       "      <td>5</td>\n",
       "    </tr>\n",
       "    <tr>\n",
       "      <th>FRT</th>\n",
       "      <td>0.17159556</td>\n",
       "      <td>0.47730392</td>\n",
       "      <td>1</td>\n",
       "    </tr>\n",
       "    <tr>\n",
       "      <th>LLY</th>\n",
       "      <td>0.77387678</td>\n",
       "      <td>0.48325900</td>\n",
       "      <td>2</td>\n",
       "    </tr>\n",
       "    <tr>\n",
       "      <th>XOM</th>\n",
       "      <td>0.39421669</td>\n",
       "      <td>0.71147771</td>\n",
       "      <td>4</td>\n",
       "    </tr>\n",
       "    <tr>\n",
       "      <th>1995-01-01</th>\n",
       "      <th>BA</th>\n",
       "      <td>0.37622173</td>\n",
       "      <td>0.92155374</td>\n",
       "      <td>3</td>\n",
       "    </tr>\n",
       "  </tbody>\n",
       "</table>\n",
       "</div>"
      ],
      "text/plain": [
       "                         1D     factor  factor_quantile\n",
       "date       asset                                       \n",
       "1994-01-01 BA    0.69666598 0.86990102                5\n",
       "           FRT   0.17159556 0.47730392                1\n",
       "           LLY   0.77387678 0.48325900                2\n",
       "           XOM   0.39421669 0.71147771                4\n",
       "1995-01-01 BA    0.37622173 0.92155374                3"
      ]
     },
     "execution_count": 188,
     "metadata": {},
     "output_type": "execute_result"
    }
   ],
   "source": [
    "import alphalens as al\n",
    "\n",
    "\n",
    "factor_data = {}\n",
    "skipped_sentiments = []\n",
    "\n",
    "for sentiment in sentiments:\n",
    "    cs_df = cosine_similarities_df[(cosine_similarities_df['sentiment'] == sentiment)]\n",
    "    cs_df = cs_df.pivot(index='date', columns='ticker', values='value')\n",
    "\n",
    "    try:\n",
    "        data = al.utils.get_clean_factor_and_forward_returns(cs_df.stack(), pricing, quantiles=5, bins=None, periods=[1])\n",
    "        factor_data[sentiment] = data\n",
    "    except Exception as e:\n",
    "        print(e)\n",
    "        skipped_sentiments.append(sentiment)\n",
    "\n",
    "if skipped_sentiments:\n",
    "    print('\\nSkipped the following sentiments:\\n{}'.format('\\n'.join(skipped_sentiments)))\n",
    "factor_data[sentiments[0]].head()"
   ]
  },
  {
   "cell_type": "markdown",
   "metadata": {},
   "source": [
    "### Alphalens Format with Unix Time\n",
    "Alphalen's `factor_rank_autocorrelation` and `mean_return_by_quantile` functions require unix timestamps to work, so we'll also create factor dataframes with unix time."
   ]
  },
  {
   "cell_type": "code",
   "execution_count": 189,
   "metadata": {},
   "outputs": [],
   "source": [
    "unixt_factor_data = {\n",
    "    factor: data.set_index(pd.MultiIndex.from_tuples(\n",
    "        [(x.timestamp(), y) for x, y in data.index.values],\n",
    "        names=['date', 'asset']))\n",
    "    for factor, data in factor_data.items()}"
   ]
  },
  {
   "cell_type": "code",
   "execution_count": 190,
   "metadata": {},
   "outputs": [],
   "source": [
    "# !pip install pandas==0.23.3"
   ]
  },
  {
   "cell_type": "markdown",
   "metadata": {},
   "source": [
    "### Factor Returns\n",
    "Let's view the factor returns over time. We should be seeing it generally move up and to the right."
   ]
  },
  {
   "cell_type": "code",
   "execution_count": 191,
   "metadata": {},
   "outputs": [
    {
     "data": {
      "text/plain": [
       "<matplotlib.axes._subplots.AxesSubplot at 0x7f29099adcf8>"
      ]
     },
     "execution_count": 191,
     "metadata": {},
     "output_type": "execute_result"
    },
    {
     "data": {
      "image/png": "[encoded data removed]",
      "text/plain": [
       "<matplotlib.figure.Figure at 0x7f2909a26fd0>"
      ]
     },
     "metadata": {
      "needs_background": "light"
     },
     "output_type": "display_data"
    }
   ],
   "source": [
    "ls_factor_returns = pd.DataFrame()\n",
    "\n",
    "for factor_name, data in factor_data.items():\n",
    "    ls_factor_returns[factor_name] = al.performance.factor_returns(data).iloc[:, 0]\n",
    "\n",
    "(1 + ls_factor_returns).cumprod().plot()"
   ]
  },
  {
   "cell_type": "code",
   "execution_count": 192,
   "metadata": {},
   "outputs": [
    {
     "data": {
      "text/html": [
       "<div>\n",
       "<style scoped>\n",
       "    .dataframe tbody tr th:only-of-type {\n",
       "        vertical-align: middle;\n",
       "    }\n",
       "\n",
       "    .dataframe tbody tr th {\n",
       "        vertical-align: top;\n",
       "    }\n",
       "\n",
       "    .dataframe thead th {\n",
       "        text-align: right;\n",
       "    }\n",
       "</style>\n",
       "<table border=\"1\" class=\"dataframe\">\n",
       "  <thead>\n",
       "    <tr style=\"text-align: right;\">\n",
       "      <th></th>\n",
       "      <th>negative</th>\n",
       "      <th>positive</th>\n",
       "      <th>litigious</th>\n",
       "      <th>constraining</th>\n",
       "      <th>interesting</th>\n",
       "    </tr>\n",
       "    <tr>\n",
       "      <th>date</th>\n",
       "      <th></th>\n",
       "      <th></th>\n",
       "      <th></th>\n",
       "      <th></th>\n",
       "      <th></th>\n",
       "    </tr>\n",
       "  </thead>\n",
       "  <tbody>\n",
       "    <tr>\n",
       "      <th>1994-01-01</th>\n",
       "      <td>1.07783158</td>\n",
       "      <td>1.22948522</td>\n",
       "      <td>1.03736869</td>\n",
       "      <td>1.14338904</td>\n",
       "      <td>0.79465418</td>\n",
       "    </tr>\n",
       "    <tr>\n",
       "      <th>1995-01-01</th>\n",
       "      <td>1.25570995</td>\n",
       "      <td>0.99927924</td>\n",
       "      <td>1.23057429</td>\n",
       "      <td>0.99592302</td>\n",
       "      <td>0.62405698</td>\n",
       "    </tr>\n",
       "    <tr>\n",
       "      <th>1996-01-01</th>\n",
       "      <td>1.28334794</td>\n",
       "      <td>1.20477159</td>\n",
       "      <td>1.21111898</td>\n",
       "      <td>1.05407954</td>\n",
       "      <td>0.66007750</td>\n",
       "    </tr>\n",
       "    <tr>\n",
       "      <th>1997-01-01</th>\n",
       "      <td>1.07836475</td>\n",
       "      <td>1.40322961</td>\n",
       "      <td>1.01912584</td>\n",
       "      <td>1.10952651</td>\n",
       "      <td>0.54914314</td>\n",
       "    </tr>\n",
       "    <tr>\n",
       "      <th>1998-01-01</th>\n",
       "      <td>0.79271995</td>\n",
       "      <td>1.03153234</td>\n",
       "      <td>0.74917266</td>\n",
       "      <td>0.81562737</td>\n",
       "      <td>0.69460401</td>\n",
       "    </tr>\n",
       "    <tr>\n",
       "      <th>1999-01-01</th>\n",
       "      <td>0.40024761</td>\n",
       "      <td>1.41513221</td>\n",
       "      <td>0.72170192</td>\n",
       "      <td>0.84857263</td>\n",
       "      <td>0.57643152</td>\n",
       "    </tr>\n",
       "    <tr>\n",
       "      <th>2000-01-01</th>\n",
       "      <td>0.34733111</td>\n",
       "      <td>1.31934719</td>\n",
       "      <td>0.63270725</td>\n",
       "      <td>0.84809568</td>\n",
       "      <td>0.51386187</td>\n",
       "    </tr>\n",
       "    <tr>\n",
       "      <th>2001-01-01</th>\n",
       "      <td>0.36411780</td>\n",
       "      <td>1.32020254</td>\n",
       "      <td>0.63261812</td>\n",
       "      <td>0.85211241</td>\n",
       "      <td>0.52477385</td>\n",
       "    </tr>\n",
       "    <tr>\n",
       "      <th>2002-01-01</th>\n",
       "      <td>0.41862029</td>\n",
       "      <td>1.35249926</td>\n",
       "      <td>0.65663356</td>\n",
       "      <td>0.88604649</td>\n",
       "      <td>0.60924239</td>\n",
       "    </tr>\n",
       "    <tr>\n",
       "      <th>2003-01-01</th>\n",
       "      <td>0.42827438</td>\n",
       "      <td>1.48622820</td>\n",
       "      <td>0.63122065</td>\n",
       "      <td>0.90434356</td>\n",
       "      <td>0.58963814</td>\n",
       "    </tr>\n",
       "    <tr>\n",
       "      <th>2004-01-01</th>\n",
       "      <td>0.42951064</td>\n",
       "      <td>1.64311166</td>\n",
       "      <td>0.65930679</td>\n",
       "      <td>0.95655104</td>\n",
       "      <td>0.60382821</td>\n",
       "    </tr>\n",
       "    <tr>\n",
       "      <th>2005-01-01</th>\n",
       "      <td>0.46108737</td>\n",
       "      <td>1.84211214</td>\n",
       "      <td>0.72930577</td>\n",
       "      <td>1.10514112</td>\n",
       "      <td>0.69225814</td>\n",
       "    </tr>\n",
       "    <tr>\n",
       "      <th>2006-01-01</th>\n",
       "      <td>0.30262638</td>\n",
       "      <td>1.47032630</td>\n",
       "      <td>0.43423718</td>\n",
       "      <td>0.93304280</td>\n",
       "      <td>0.78864413</td>\n",
       "    </tr>\n",
       "    <tr>\n",
       "      <th>2007-01-01</th>\n",
       "      <td>0.27609385</td>\n",
       "      <td>1.41485678</td>\n",
       "      <td>0.39195041</td>\n",
       "      <td>0.84838697</td>\n",
       "      <td>0.75122812</td>\n",
       "    </tr>\n",
       "    <tr>\n",
       "      <th>2008-01-01</th>\n",
       "      <td>0.39105347</td>\n",
       "      <td>0.98479370</td>\n",
       "      <td>0.51139129</td>\n",
       "      <td>0.93349021</td>\n",
       "      <td>0.83769827</td>\n",
       "    </tr>\n",
       "    <tr>\n",
       "      <th>2009-01-01</th>\n",
       "      <td>0.40667011</td>\n",
       "      <td>0.99763086</td>\n",
       "      <td>0.51827574</td>\n",
       "      <td>0.99262189</td>\n",
       "      <td>0.86952853</td>\n",
       "    </tr>\n",
       "    <tr>\n",
       "      <th>2010-01-01</th>\n",
       "      <td>0.40243663</td>\n",
       "      <td>0.98696018</td>\n",
       "      <td>0.53133932</td>\n",
       "      <td>0.98877030</td>\n",
       "      <td>0.85274586</td>\n",
       "    </tr>\n",
       "    <tr>\n",
       "      <th>2011-01-01</th>\n",
       "      <td>0.42954664</td>\n",
       "      <td>0.98587414</td>\n",
       "      <td>0.55157283</td>\n",
       "      <td>1.01158836</td>\n",
       "      <td>0.96391214</td>\n",
       "    </tr>\n",
       "    <tr>\n",
       "      <th>2012-01-01</th>\n",
       "      <td>0.41895983</td>\n",
       "      <td>0.75460084</td>\n",
       "      <td>0.68589319</td>\n",
       "      <td>0.91652095</td>\n",
       "      <td>1.21518342</td>\n",
       "    </tr>\n",
       "    <tr>\n",
       "      <th>2013-01-01</th>\n",
       "      <td>0.43842523</td>\n",
       "      <td>0.77895909</td>\n",
       "      <td>0.72765809</td>\n",
       "      <td>0.78637045</td>\n",
       "      <td>1.30869296</td>\n",
       "    </tr>\n",
       "    <tr>\n",
       "      <th>2014-01-01</th>\n",
       "      <td>0.52452235</td>\n",
       "      <td>0.68358124</td>\n",
       "      <td>0.75405059</td>\n",
       "      <td>0.52107409</td>\n",
       "      <td>1.56867097</td>\n",
       "    </tr>\n",
       "    <tr>\n",
       "      <th>2015-01-01</th>\n",
       "      <td>0.48342352</td>\n",
       "      <td>0.82119110</td>\n",
       "      <td>0.74915459</td>\n",
       "      <td>0.47695748</td>\n",
       "      <td>1.67788421</td>\n",
       "    </tr>\n",
       "    <tr>\n",
       "      <th>2016-01-01</th>\n",
       "      <td>0.58093968</td>\n",
       "      <td>0.92035624</td>\n",
       "      <td>0.91030653</td>\n",
       "      <td>0.48358431</td>\n",
       "      <td>1.83393802</td>\n",
       "    </tr>\n",
       "  </tbody>\n",
       "</table>\n",
       "</div>"
      ],
      "text/plain": [
       "             negative   positive  litigious  constraining  interesting\n",
       "date                                                                  \n",
       "1994-01-01 1.07783158 1.22948522 1.03736869    1.14338904   0.79465418\n",
       "1995-01-01 1.25570995 0.99927924 1.23057429    0.99592302   0.62405698\n",
       "1996-01-01 1.28334794 1.20477159 1.21111898    1.05407954   0.66007750\n",
       "1997-01-01 1.07836475 1.40322961 1.01912584    1.10952651   0.54914314\n",
       "1998-01-01 0.79271995 1.03153234 0.74917266    0.81562737   0.69460401\n",
       "1999-01-01 0.40024761 1.41513221 0.72170192    0.84857263   0.57643152\n",
       "2000-01-01 0.34733111 1.31934719 0.63270725    0.84809568   0.51386187\n",
       "2001-01-01 0.36411780 1.32020254 0.63261812    0.85211241   0.52477385\n",
       "2002-01-01 0.41862029 1.35249926 0.65663356    0.88604649   0.60924239\n",
       "2003-01-01 0.42827438 1.48622820 0.63122065    0.90434356   0.58963814\n",
       "2004-01-01 0.42951064 1.64311166 0.65930679    0.95655104   0.60382821\n",
       "2005-01-01 0.46108737 1.84211214 0.72930577    1.10514112   0.69225814\n",
       "2006-01-01 0.30262638 1.47032630 0.43423718    0.93304280   0.78864413\n",
       "2007-01-01 0.27609385 1.41485678 0.39195041    0.84838697   0.75122812\n",
       "2008-01-01 0.39105347 0.98479370 0.51139129    0.93349021   0.83769827\n",
       "2009-01-01 0.40667011 0.99763086 0.51827574    0.99262189   0.86952853\n",
       "2010-01-01 0.40243663 0.98696018 0.53133932    0.98877030   0.85274586\n",
       "2011-01-01 0.42954664 0.98587414 0.55157283    1.01158836   0.96391214\n",
       "2012-01-01 0.41895983 0.75460084 0.68589319    0.91652095   1.21518342\n",
       "2013-01-01 0.43842523 0.77895909 0.72765809    0.78637045   1.30869296\n",
       "2014-01-01 0.52452235 0.68358124 0.75405059    0.52107409   1.56867097\n",
       "2015-01-01 0.48342352 0.82119110 0.74915459    0.47695748   1.67788421\n",
       "2016-01-01 0.58093968 0.92035624 0.91030653    0.48358431   1.83393802"
      ]
     },
     "execution_count": 192,
     "metadata": {},
     "output_type": "execute_result"
    }
   ],
   "source": [
    "(1 + ls_factor_returns).cumprod()\n"
   ]
  },
  {
   "cell_type": "markdown",
   "metadata": {},
   "source": [
    "### Basis Points Per Day per Quantile\n",
    "It is not enough to look just at the factor weighted return. A good alpha is also monotonic in quantiles. Let's looks the basis points for the factor returns."
   ]
  },
  {
   "cell_type": "code",
   "execution_count": 197,
   "metadata": {},
   "outputs": [
    {
     "data": {
      "text/plain": [
       "array([[<matplotlib.axes._subplots.AxesSubplot object at 0x7f29097340f0>,\n",
       "        <matplotlib.axes._subplots.AxesSubplot object at 0x7f29099be668>,\n",
       "        <matplotlib.axes._subplots.AxesSubplot object at 0x7f290972c390>],\n",
       "       [<matplotlib.axes._subplots.AxesSubplot object at 0x7f2909796080>,\n",
       "        <matplotlib.axes._subplots.AxesSubplot object at 0x7f290978e438>,\n",
       "        <matplotlib.axes._subplots.AxesSubplot object at 0x7f290978e358>],\n",
       "       [<matplotlib.axes._subplots.AxesSubplot object at 0x7f2909781da0>,\n",
       "        <matplotlib.axes._subplots.AxesSubplot object at 0x7f290978b2b0>,\n",
       "        <matplotlib.axes._subplots.AxesSubplot object at 0x7f290976aa20>],\n",
       "       [<matplotlib.axes._subplots.AxesSubplot object at 0x7f29097bbcf8>,\n",
       "        <matplotlib.axes._subplots.AxesSubplot object at 0x7f2909827f28>,\n",
       "        <matplotlib.axes._subplots.AxesSubplot object at 0x7f2909811978>],\n",
       "       [<matplotlib.axes._subplots.AxesSubplot object at 0x7f2909801128>,\n",
       "        <matplotlib.axes._subplots.AxesSubplot object at 0x7f29097f24a8>,\n",
       "        <matplotlib.axes._subplots.AxesSubplot object at 0x7f290985e9e8>]], dtype=object)"
      ]
     },
     "execution_count": 197,
     "metadata": {},
     "output_type": "execute_result"
    },
    {
     "data": {
      "image/png": "[encoded data removed]",
      "text/plain": [
       "<matplotlib.figure.Figure at 0x7f2909987358>"
      ]
     },
     "metadata": {
      "needs_background": "light"
     },
     "output_type": "display_data"
    }
   ],
   "source": [
    "qr_factor_returns = pd.DataFrame()\n",
    "\n",
    "for factor_name, data in unixt_factor_data.items():\n",
    "    qr_factor_returns[factor_name] = al.performance.mean_return_by_quantile(data)[0].iloc[:, 0]\n",
    "\n",
    "(10000*qr_factor_returns).plot.bar(\n",
    "    subplots=True,\n",
    "    sharey=True,\n",
    "    layout=(5,3),\n",
    "    figsize=(14, 14),\n",
    "    legend=False)"
   ]
  },
  {
   "cell_type": "markdown",
   "metadata": {},
   "source": [
    "### Turnover Analysis\n",
    "Without doing a full and formal backtest, we can analyze how stable the alphas are over time. Stability in this sense means that from period to period, the alpha ranks do not change much. Since trading is costly, we always prefer, all other things being equal, that the ranks do not change significantly per period. We can measure this with the **Factor Rank Autocorrelation (FRA)**."
   ]
  },
  {
   "cell_type": "code",
   "execution_count": 198,
   "metadata": {},
   "outputs": [
    {
     "data": {
      "text/plain": [
       "<matplotlib.axes._subplots.AxesSubplot at 0x7f290969cd30>"
      ]
     },
     "execution_count": 198,
     "metadata": {},
     "output_type": "execute_result"
    },
    {
     "data": {
      "image/png": "[encoded data removed]",
      "text/plain": [
       "<matplotlib.figure.Figure at 0x7f2909969978>"
      ]
     },
     "metadata": {
      "needs_background": "light"
     },
     "output_type": "display_data"
    }
   ],
   "source": [
    "ls_FRA = pd.DataFrame()\n",
    "\n",
    "for factor, data in unixt_factor_data.items():\n",
    "    ls_FRA[factor] = al.performance.factor_rank_autocorrelation(data)\n",
    "\n",
    "ls_FRA.plot(title=\"Factor Rank Autocorrelation\")"
   ]
  },
  {
   "cell_type": "markdown",
   "metadata": {},
   "source": [
    "### Sharpe Ratio of the Alphas\n",
    "The last analysis we'll do on the factors will be sharpe ratio. Let's see what the sharpe ratio for the factors are. Generally, a Sharpe Ratio of near 1.0 or higher is an acceptable single alpha for this universe."
   ]
  },
  {
   "cell_type": "code",
   "execution_count": 201,
   "metadata": {},
   "outputs": [
    {
     "data": {
      "text/plain": [
       "negative       -0.24000000\n",
       "positive        1.02000000\n",
       "litigious       0.89000000\n",
       "constraining   -2.98000000\n",
       "interesting     4.10000000\n",
       "dtype: float64"
      ]
     },
     "execution_count": 201,
     "metadata": {},
     "output_type": "execute_result"
    }
   ],
   "source": [
    "daily_annualization_factor = np.sqrt(252)\n",
    "\n",
    "(daily_annualization_factor * ls_factor_returns.mean() / ls_factor_returns.std()).round(2)"
   ]
  }
 ],
 "metadata": {
  "kernelspec": {
   "display_name": "Python 3",
   "language": "python",
   "name": "python3"
  },
  "language_info": {
   "codemirror_mode": {
    "name": "ipython",
    "version": 3
   },
   "file_extension": ".py",
   "mimetype": "text/x-python",
   "name": "python",
   "nbconvert_exporter": "python",
   "pygments_lexer": "ipython3",
   "version": "3.6.3"
  }
 },
 "nbformat": 4,
 "nbformat_minor": 2
}
